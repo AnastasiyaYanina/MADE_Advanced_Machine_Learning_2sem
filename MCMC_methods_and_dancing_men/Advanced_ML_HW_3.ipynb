{
  "nbformat": 4,
  "nbformat_minor": 0,
  "metadata": {
    "colab": {
      "provenance": []
    },
    "kernelspec": {
      "name": "python3",
      "display_name": "Python 3"
    },
    "language_info": {
      "name": "python"
    }
  },
  "cells": [
    {
      "cell_type": "code",
      "source": [
        "import re\n",
        "from collections import Counter\n",
        "import random\n",
        "import numpy as np"
      ],
      "metadata": {
        "id": "6cc51tJ4SKnl"
      },
      "execution_count": null,
      "outputs": []
    },
    {
      "cell_type": "code",
      "source": [
        "from google.colab import drive \n",
        "drive.mount('/content/gdrive')"
      ],
      "metadata": {
        "colab": {
          "base_uri": "https://localhost:8080/"
        },
        "id": "lhfgMEtxSXy7",
        "outputId": "fa9c6af4-9efc-4977-df32-2b979cbdd22a"
      },
      "execution_count": null,
      "outputs": [
        {
          "output_type": "stream",
          "name": "stdout",
          "text": [
            "Mounted at /content/gdrive\n"
          ]
        }
      ]
    },
    {
      "cell_type": "markdown",
      "source": [
        "# Загрузка данных"
      ],
      "metadata": {
        "id": "E-zHVBkZSBxq"
      }
    },
    {
      "cell_type": "code",
      "source": [
        "def read_file(address):\n",
        "  my_file = open(address, \"r\")\n",
        "\n",
        "  data = my_file.read()\n",
        "  data_into_list = data.replace('\\n', ' ')\n",
        "  data_into_list = re.split(\"! |\\. |\\? \", data_into_list)\n",
        "  \n",
        "  for i in range(len(data_into_list)):\n",
        "    data_into_list[i] = re.sub(r'[^\\w\\s]','',data_into_list[i]).lower()\n",
        "\n",
        "  my_file.close()\n",
        "  return data_into_list"
      ],
      "metadata": {
        "id": "lhA3TLottxE_"
      },
      "execution_count": null,
      "outputs": []
    },
    {
      "cell_type": "code",
      "execution_count": null,
      "metadata": {
        "colab": {
          "base_uri": "https://localhost:8080/"
        },
        "id": "akLKPWxdRUBe",
        "outputId": "3c3934c0-8832-4bdd-fa24-085f71134019"
      },
      "outputs": [
        {
          "output_type": "execute_result",
          "data": {
            "text/plain": [
              "['annotation   анна каренина один из самых знаменитых романов льва толстого начинается ставшей афоризмом фразой все счастливые семьи похожи друг на друга каждая несчастливая семья несчастлива посвоему',\n",
              " 'это книга о вечных ценностях о любви о вере о семье о человеческом достоинстве',\n",
              " '           лев толстойроман широкого дыхания  часть перваяi   лев толстой  анна каренина     роман широкого дыхания     анна каренина поразила современников вседневностью содержания']"
            ]
          },
          "metadata": {},
          "execution_count": 40
        }
      ],
      "source": [
        "AnnaKarenina = read_file('gdrive/My Drive/Advanced_ML/AnnaKarenina.txt')\n",
        "AnnaKarenina[:3]"
      ]
    },
    {
      "cell_type": "code",
      "source": [
        "len(AnnaKarenina)"
      ],
      "metadata": {
        "colab": {
          "base_uri": "https://localhost:8080/"
        },
        "id": "53h2qD965L0b",
        "outputId": "8a38b9f7-f05f-4ac4-d948-8ce61f439ded"
      },
      "execution_count": null,
      "outputs": [
        {
          "output_type": "execute_result",
          "data": {
            "text/plain": [
              "21623"
            ]
          },
          "metadata": {},
          "execution_count": 41
        }
      ]
    },
    {
      "cell_type": "code",
      "source": [
        "WarAndPeaceEng = read_file('gdrive/My Drive/Advanced_ML/WarAndPeaceEng.txt')\n",
        "len(WarAndPeaceEng)"
      ],
      "metadata": {
        "colab": {
          "base_uri": "https://localhost:8080/"
        },
        "id": "PBvaAyDuukg1",
        "outputId": "6ec52e7d-d7d3-455f-cec6-c4fdf618ffec"
      },
      "execution_count": null,
      "outputs": [
        {
          "output_type": "execute_result",
          "data": {
            "text/plain": [
              "27265"
            ]
          },
          "metadata": {},
          "execution_count": 5
        }
      ]
    },
    {
      "cell_type": "code",
      "source": [
        "WarAndPeace = read_file('gdrive/My Drive/Advanced_ML/WarAndPeace.txt')\n",
        "len(WarAndPeace)"
      ],
      "metadata": {
        "colab": {
          "base_uri": "https://localhost:8080/"
        },
        "id": "OqNjc-wRteQx",
        "outputId": "22fdc749-a2a0-487f-e282-28d30eb4b703"
      },
      "execution_count": null,
      "outputs": [
        {
          "output_type": "execute_result",
          "data": {
            "text/plain": [
              "7823"
            ]
          },
          "metadata": {},
          "execution_count": 43
        }
      ]
    },
    {
      "cell_type": "markdown",
      "source": [
        "# 1. Реализуйте базовый частотный метод по Шерлоку Холмсу:"
      ],
      "metadata": {
        "id": "Io3SOnWzc2Gi"
      }
    },
    {
      "cell_type": "code",
      "source": [
        "#AnnaKarenina\n",
        "counts_AK = Counter(' '.join(AnnaKarenina))\n",
        "for letter in list(counts_AK):\n",
        "  counts_AK[letter] /= len(' '.join(AnnaKarenina))\n",
        "print(counts_AK.most_common())"
      ],
      "metadata": {
        "colab": {
          "base_uri": "https://localhost:8080/"
        },
        "id": "IPs0xyrMRHBO",
        "outputId": "b54ddac5-bd11-4180-cf60-da97d4086c4e"
      },
      "execution_count": null,
      "outputs": [
        {
          "output_type": "stream",
          "name": "stdout",
          "text": [
            "[(' ', 0.17811158425959717), ('о', 0.09392803914685217), ('е', 0.07151205931018768), ('а', 0.06772622881892615), ('н', 0.05675796189763452), ('и', 0.054291330818314255), ('т', 0.04895033714480368), ('с', 0.043447407550493644), ('л', 0.04101258531275899), ('в', 0.03849563842947604), ('р', 0.03255432516385891), ('к', 0.028026481149791307), ('д', 0.02407755805258175), ('м', 0.02343848950799819), ('у', 0.02205162401486572), ('п', 0.019717433385056438), ('я', 0.017607061331494974), ('ь', 0.01610857572152574), ('ы', 0.015160672242274645), ('г', 0.014859355761072803), ('б', 0.01429547175114613), ('ч', 0.013798097137262091), ('з', 0.013371858660014956), ('ж', 0.009265048040025934), ('й', 0.008595327339005332), ('ш', 0.006979438186456489), ('х', 0.006353671521081454), ('ю', 0.005096354764588547), ('э', 0.002902701380330222), ('щ', 0.0023446007961463876), ('ц', 0.002309321899115078), ('ф', 0.0010300281247993875), ('1', 0.0004482154950699187), ('e', 0.0004262384772471356), ('i', 0.0004256601346728518), ('a', 0.00028685791684474797), ('2', 0.00028685791684474797), ('8', 0.00024463890892203305), ('ъ', 0.00023827714060491162), ('n', 0.00023133702971350645), ('s', 0.0002163001227821285), ('3', 0.00020936001189072334), ('x', 0.00019374476238506164), ('l', 0.0001908530495136428), ('7', 0.00018044288317653503), ('r', 0.00017003271683942723), ('t', 0.00016482763367087333), ('o', 0.0001619359207994545), ('m', 0.00015673083763090062), ('6', 0.00014805569901664412), ('0', 0.00014747735644236035), ('u', 0.00014285061584809022), ('9', 0.00014227227327380645), ('4', 0.00013938056040238762), ('5', 0.00013822387525382009), ('d', 0.00010988508911391556), ('c', 0.00010294497822251037), ('v', 9.947492277680777e-05), ('p', 6.940110891405193e-05), ('h', 5.320751683410648e-05), ('b', 4.279735049699869e-05), ('f', 4.164066534843116e-05), ('g', 3.296552673417467e-05), ('ó', 3.06521564370396e-05), ('é', 2.660375841705324e-05), ('z', 1.8506962377080515e-05), ('ё', 1.7928619802796748e-05), ('j', 1.619359207994545e-05), ('q', 1.330187920852662e-05), ('y', 1.1566851485675323e-05), ('w', 9.253481188540257e-06), ('è', 9.253481188540257e-06), ('k', 8.096796039972726e-06), ('á', 6.361768317121427e-06), ('â', 2.8917128714188307e-06), ('ç', 2.3133702971350644e-06), ('ý', 1.7350277228512983e-06), ('à', 1.7350277228512983e-06), ('ü', 1.1566851485675322e-06), ('î', 1.1566851485675322e-06), ('ê', 5.783425742837661e-07), ('ї', 5.783425742837661e-07), ('ä', 5.783425742837661e-07)]\n"
          ]
        }
      ]
    },
    {
      "cell_type": "code",
      "source": [
        "#WarAndPeaceEng\n",
        "counts_WAPE = Counter(' '.join(WarAndPeaceEng))\n",
        "for letter in list(counts_WAPE):\n",
        "  counts_WAPE[letter] /= len(' '.join(WarAndPeaceEng))\n",
        "print(counts_WAPE.most_common())"
      ],
      "metadata": {
        "colab": {
          "base_uri": "https://localhost:8080/"
        },
        "id": "QsDYeGX1FOqa",
        "outputId": "a3ef25d8-56f0-4aa1-89f9-f780a69f625c"
      },
      "execution_count": null,
      "outputs": [
        {
          "output_type": "stream",
          "name": "stdout",
          "text": [
            "[(' ', 0.18627540100854006), ('e', 0.10125648325379599), ('t', 0.07272422413757106), ('a', 0.06610726603030374), ('o', 0.0619549642122142), ('n', 0.05915849638299724), ('i', 0.055981071645274515), ('h', 0.05377209975674649), ('s', 0.052322471992761174), ('r', 0.047676789220654034), ('d', 0.03799611526741023), ('l', 0.031005588117485054), ('u', 0.021018157125773276), ('m', 0.019801407741776744), ('c', 0.019794019875928822), ('w', 0.019017972750338636), ('f', 0.01763322972119158), ('g', 0.01648650445697098), ('y', 0.014860852758870016), ('p', 0.014625725897971002), ('b', 0.01113255019813935), ('v', 0.008700336276380704), ('k', 0.006562673353863035), ('x', 0.0014081914729252383), ('j', 0.0008267985518498092), ('z', 0.0007670532019492402), ('q', 0.000748422931550138), ('1', 0.0001259149309732421), ('8', 6.199383081080543e-05), ('0', 5.74968689903325e-05), ('2', 4.7218099114965795e-05), ('3', 1.9593905074917776e-05), ('6', 1.830905884049694e-05), ('5', 1.766663572328652e-05), ('7', 1.2848462344208379e-05), ('9', 1.1242404551182332e-05), ('4', 7.387865847919818e-06), ('ê', 3.5333271446573042e-06), ('à', 1.284846234420838e-06), ('é', 3.212115586052095e-07), ('ä', 3.212115586052095e-07)]\n"
          ]
        }
      ]
    },
    {
      "cell_type": "code",
      "source": [
        "#WarAndPeace\n",
        "counts_WAP = Counter(' '.join(WarAndPeace))\n",
        "for letter in list(counts_WAP):\n",
        "  counts_WAP[letter] /= len(' '.join(WarAndPeace))\n",
        "print(counts_WAP.most_common())"
      ],
      "metadata": {
        "colab": {
          "base_uri": "https://localhost:8080/"
        },
        "id": "-2KsYAbYGR0F",
        "outputId": "50a91abb-cc40-4dff-cf98-3b4d1c824368"
      },
      "execution_count": null,
      "outputs": [
        {
          "output_type": "stream",
          "name": "stdout",
          "text": [
            "[(' ', 0.17137623630767793), ('о', 0.08951517603735909), ('а', 0.06603719841834417), ('е', 0.06210789089671472), ('и', 0.05234889329373838), ('н', 0.05129864343944411), ('т', 0.044725452418130904), ('с', 0.041086826010555084), ('л', 0.03984376255296897), ('в', 0.036260643091795344), ('р', 0.035889622976370106), ('к', 0.028232585791098146), ('д', 0.023936640281391003), ('м', 0.023283703306607225), ('у', 0.0225737986763054), ('п', 0.02022643912713866), ('я', 0.01822526763842775), ('г', 0.016326345787826158), ('ь', 0.015334524298165788), ('ы', 0.014947436382466232), ('з', 0.014025728930366535), ('б', 0.013599201868539102), ('ч', 0.01073475129236239), ('й', 0.009071003609412225), ('ж', 0.007975471772526692), ('ш', 0.0074350093996631604), ('х', 0.0067192619328979445), ('e', 0.0064986948564049905), ('ю', 0.00510517835988659), ('ц', 0.0031828851634314393), ('n', 0.0030178250333406857), ('s', 0.0030061393604139067), ('i', 0.00290388972230459), ('a', 0.0027563581016040047), ('r', 0.0027066939916651936), ('u', 0.002529948188647661), ('o', 0.0025182625157208816), ('t', 0.002395562949989702), ('э', 0.002379495149715381), ('щ', 0.002211513601392932), ('l', 0.0019164503599917615), ('ф', 0.0017659973210594816), ('m', 0.001652062010023386), ('c', 0.0013453130956954363), ('d', 0.00127081693078722), ('p', 0.0010604748181051974), ('v', 0.0008997968153619856), ('ё', 0.0006295656289302204), ('h', 0.0006076549921925098), ('é', 0.0005360802455159882), ('b', 0.0004630447897236192), ('q', 0.0004265270618274347), ('f', 0.00042360564359574), ('ъ', 0.00041338067978480834), ('g', 0.0003228167146022708), ('j', 0.0003169738781388813), ('z', 0.00026584905908422305), ('x', 0.00021618494914541213), ('è', 0.00020888140356617522), ('à', 0.00016067800274321173), ('0', 0.00010224963810931654), ('ê', 8.910325606669014e-05), ('y', 8.764254695084276e-05), ('1', 7.74175831399111e-05), ('k', 5.988907374974255e-05), ('w', 5.404623728635303e-05), ('2', 3.797843701203186e-05), ('ç', 3.3596309664489724e-05), ('8', 2.9214182316947585e-05), ('â', 2.6292764085252828e-05), ('5', 2.4832054969405447e-05), ('3', 2.337134585355807e-05), ('ô', 1.6067800274321173e-05), ('7', 1.3146382042626414e-05), ('6', 1.3146382042626414e-05), ('9', 1.3146382042626414e-05), ('î', 1.1685672926779035e-05), ('4', 8.764254695084275e-06), ('ö', 8.764254695084275e-06), ('ü', 5.8428364633895174e-06), ('\\t', 4.382127347542138e-06), ('û', 2.9214182316947587e-06), ('í', 1.4607091158473794e-06), ('ä', 1.4607091158473794e-06), ('å', 1.4607091158473794e-06)]\n"
          ]
        }
      ]
    },
    {
      "cell_type": "code",
      "source": [
        "def encrypt_frequency_method(counts, text):\n",
        "  list_a = list(counts)\n",
        "  list_b = list(counts)\n",
        "  random.shuffle(list_b)\n",
        "  mapping = zip(list_a, list_b)\n",
        "  mapping = dict(mapping)\n",
        "  decoder = ''.join(mapping[i] for i in text)\n",
        "  return decoder"
      ],
      "metadata": {
        "id": "NFY-HylfQ0FS"
      },
      "execution_count": null,
      "outputs": []
    },
    {
      "cell_type": "code",
      "source": [
        "encrypt_AK = encrypt_frequency_method(counts_AK, ' '.join(AnnaKarenina[:4]))\n",
        "encrypt_AK"
      ],
      "metadata": {
        "id": "XvlSJXShQz7n",
        "colab": {
          "base_uri": "https://localhost:8080/",
          "height": 87
        },
        "outputId": "4f830c6b-1f0a-4adb-be9f-224a15dea556"
      },
      "execution_count": null,
      "outputs": [
        {
          "output_type": "execute_result",
          "data": {
            "text/plain": [
              "'héénwhwênéшшшáыыáшâázäылыáш7aлышлbш6áдgбшbыáдäылмgбшz7дáы7зшйsзáшм7й6м7u7шыáьлыáäм6pш6мáзтäршá37zлbд7дш3záb7ршз6äш6ьá6мйлзgäш6äдsлша7б7влшazduшыáшazduáшâáвaápшыä6ьá6мйлзápш6äдspшыä6ьá6мйлзáша76з7äдdш1м7шâылuáш7шзäьыgбшфäыы76мpбш7шй óзлш7шзäzäш7ш6äдsäш7шьäй7зäьä6â7дшa76м7лы6мзäшшшшшшшшшшшшйäзшм7й6м7рz7дáыштлz7â7u7шagбáылpшшьá6мsшаäzзápêшшшйäзшм7й6м7ршшáыыáшâázäылыáшшшшшz7дáыштлz7â7u7шagбáылpшшшшшáыыáшâázäылыáша7zábлйáш67зzäдäыылâ7зшз6äaыäзы76мs ш67aäzвáылpшыä7ógьáрыápш6з7ó7aáшzá6â7зáыы76мsша7зä6мз7зáылpшdaлзлмäйsы7ш67ьäмáйл6sшзш1м7дшz7дáыäш6шфäйsы76мs шбda7вä6мзäыы7u7шзbuйpaáшáзм7záшыáшвлbыs'"
            ],
            "application/vnd.google.colaboratory.intrinsic+json": {
              "type": "string"
            }
          },
          "metadata": {},
          "execution_count": 48
        }
      ]
    },
    {
      "cell_type": "code",
      "source": [
        "encrypt_WAPE = encrypt_frequency_method(counts_WAPE, ' '.join(WarAndPeaceEng[:4]))\n",
        "encrypt_WAPE"
      ],
      "metadata": {
        "colab": {
          "base_uri": "https://localhost:8080/",
          "height": 140
        },
        "id": "Ab5orTzgUDAg",
        "outputId": "2d5e1a2f-b972-4cf4-9794-0c235044ea68"
      },
      "execution_count": null,
      "outputs": [
        {
          "output_type": "execute_result",
          "data": {
            "text/plain": [
              "'nféu5b8yéenucänérhébcuéh88vu8 ul4bu4rku5é4eéuhwu0é8un80àn8wuunf7àuéh88vu7àu 8bunféuäàéu8 u4rw8réu4rwlfébéu4nur8ue8ànu4rkul7nfu40j8ànur8ubéànb7en78ràulf4nà8é2ébuuw8äuj4wue85wu7nuc72éu7nu4l4wu8bubéäàéu7nuärkébunféunébjàu8 unféu5b8yéenucänérhébcu07eéràéu7re0äkékul7nfunf7àuéh88vu8bu8r07réu4nulllcänérhébc8bcuuun7n0éul4bu4rku5é4eéuu4änf8bu0é8un80àn8wuunb4rà04n8bàu08ä7àéu4rku4w0jébuj4äkéuu58àn7rcuk4néuy4rä4bwua1u611suéh88vu6d11uu04ànuä5k4nékuj4befua9u61aêuu04rcä4céuérc07àfuuuuàn4bnu8 unf7àu5b8yéenucänérhébcuéh88vul4bu4rku5é4eéuuu4ru4r8rwj8äàu280ärnéébu4rkuk427kul7kcébuuuuuul4bu4rku5é4eéuuhwu0é8un80àn8wn80àn87uue8rnérnàuuh88vu8réuam19uuef45nébu7uuef45nébu77uuef45nébu777uuef45nébu72uuef45nébu2uuef45nébu27uuef45nébu277uuef45nébu2777uuef45nébu73uuef45nébu3uuef45nébu37uuef45nébu377uuef45nébu3777uuef45nébu372uuef45nébu32uuef45nébu327uuef45nébu3277uuef45nébu32777uuef45nébu373uuef45nébu33uuef45nébu337uuef45nébu3377uuef45nébu33777uuef45nébu3372uuef45nébu332uuef45nébu3327uuef45nébu33277uuef45nébu332777uuh88vunl8uam19uuef45nébu7uuef45nébu77uuef45nébu777uuef45nébu72uuef45nébu2uuef45nébu27uuef45nébu277uuef45nébu2777uuef45nébu73uuef45nébu3uuef45nébu37uuef45nébu377uuef45nébu3777uuef45nébu372uuef45nébu32uuef45nébu327uuef45nébu3277uuef45nébu32777uuef45nébu373uuef45nébu33uuef45nébu337uuh88vunfbééuam19uuef45nébu7uuef45nébu77uuef45nébu777uuef45nébu72uuef45nébu2uuef45nébu27uuef45nébu277uuef45nébu2777uuef45nébu73uuef45nébu3uuef45nébu37uuef45nébu377uuef45nébu3777uuef45nébu372uuef45nébu32uuef45nébu327uuef45nébu3277uuef45nébu32777uuef45nébu373uuh88vu 8äbuam1duuef45nébu7uuef45nébu77uuef45nébu777uuef45nébu72uuef45nébu2uuef45nébu27uuef45nébu277uuef45nébu2777uuef45nébu73uuef45nébu3uuef45nébu37uuef45nébu377uuef45nébu3777uuef45nébu372uuef45nébu32uuef45nébu327uuh88vu 72éuam1duu1ouuef45nébu7uuef45nébu77uuef45nébu777uuef45nébu72uuef45nébu2uuef45nébu27uuef45nébu277uuef45nébu2777uuef45nébu73uuef45nébu3uuef45nébu37uuef45nébu377uuef45nébu3777uuef45nébu372uuef45nébu32uuef45nébu327uuef45nébu3277uuef45nébu32777uuef45nébu373uuef45nébu33uuef45nébu337uuef45nébu3377uuh88vuà73uam1muua1uuef45nébu7uuef45nébu77uuef45nébu777uuef45nébu72uuef45nébu2uuef45nébu27uuef45nébu277uuef45nébu2777uuef45nébu73uuef45nébu3uuef45nébu37uuef45nébu377uuef45nébu3777uuef45nébu372uuef45nébu32uuef45nébu327uuef45nébu3277uuef45nébu32777uuef45nébu373uuef45nébu33uuef45nébu337uuef45nébu3377uuef45nébu33777uuef45nébu3372uuef45nébu332uuef45nébu3327uuh88vuàé2éruama1uuaauuef45nébu7uuef45nébu77uuef45nébu777uuef45nébu72uuef45nébu2uuef45nébu27uuef45nébu277uuef45nébu2777uuef45nébu73uuef45nébu3uuef45nébu37uuef45nébu377uuef45nébu3777uuh88vué7cfnuamaauua6uuef45nébu7uuef45nébu77uuef45nébu777uuef45nébu72uuef45nébu2uuef45nébu27uuef45nébu277uuef45nébu2777uuef45nébu73uuef45nébu3uuef45nébu37uuef45nébu377uuef45nébu3777uuef45nébu372uuef45nébu32uuef45nébu327uuef45nébu3277uuef45nébu32777uuef45nébu373uuef45nébu33uuef45nébu337uuef45nébu3377uuh88vur7réuama6uuef45nébu7uuef45nébu77uuef45nébu777uuef45nébu72uuef45nébu2uuef45nébu27uuef45nébu277uuef45nébu2777uuef45nébu73uuef45nébu3uuef45nébu37uuef45nébu377uuef45nébu3777uuef45nébu372uuef45nébu32uuef45nébu327uuef45nébu3277uuef45nébu32777uuef45nébu373uuef45nébu33uuef45nébu337uuef45nébu3377uuef45nébu33777uuh88vunéruama6uuef45nébu7uuef45nébu77uuef45nébu777uuef45nébu72uuef45nébu2uuef45nébu27uuef45nébu277uuef45nébu2777uuef45nébu73uuef45nébu3uuef45nébu37uuef45nébu377uuef45nébu3777uuef45nébu372uuef45nébu32uuef45nébu327uuef45nébu3277uuef45nébu32777uuef45nébu373uuef45nébu33uuef45nébu337uuef45nébu3377uuef45nébu33777uuef45nébu3372uuef45nébu332uuef45nébu3327uuef45nébu33277uuef45nébu332777uuef45nébu3373uuef45nébu333uuef45nébu3337uuef45nébu33377uuef45nébu333777uuef45nébu33372uuef45nébu3332uuef45nébu33327uuef45nébu333277uuef45nébu3332777uuef45nébu33373uuh88vué0é2éruama6uuef45nébu7uuef45nébu77uuef45nébu777uuef45nébu72uuef45nébu2uuef45nébu27uuef45nébu277uuef45nébu2777uuef45nébu73uuef45nébu3uuef45nébu37uuef45nébu377uuef45nébu3777uuef45nébu372uuef45nébu32uuef45nébu327uuef45nébu3277uuef45nébu32777uuef45nébu373uuef45nébu33uuef45nébu337uuef45nébu3377uuef45nébu33777uuef45nébu3372uuef45nébu332uuef45nébu3327uuef45nébu33277uuef45nébu332777uuef45nébu3373uuef45nébu333uuef45nébu3337uuef45nébu33377uuef45nébu333777uuef45nébu33372uuh88vunlé02éuama6uuef45nébu7uuef45nébu77uuef45nébu777uuef45nébu72uuef45nébu2uuef45nébu27uuef45nébu277uuef45nébu2777uuef45nébu73uuef45nébu3uuef45nébu37uuef45nébu377uuef45nébu3777uuef45nébu372uuef45nébu32uuef45nébu327uuh88vunf7bnééruama6uuef45nébu7uuef45nébu77uuef45nébu777uuef45nébu72uuef45nébu2uuef45nébu27uuef45nébu277uuef45nébu2777uuef45nébu73uuef45nébu3uuef45nébu37uuef45nébu377uuef45nébu3777uuef45nébu372uuef45nébu32uuef45nébu327uuef45nébu3277uuef45nébu32777uuef45nébu373uuh88vu 8äbnééruama6uuef45nébu7uuef45nébu77uuef45nébu777uuef45nébu72uuef45nébu2uuef45nébu27uuef45nébu277uuef45nébu2777uuef45nébu73uuef45nébu3uuef45nébu37uuef45nébu377uuef45nébu3777uuef45nébu372uuef45nébu32uuef45nébu327uuef45nébu3277uuef45nébu32777uuef45nébu373uuh88vu 7 nééruama6uuaêuuef45nébu7uuef45nébu77uuef45nébu777uuef45nébu72uuef45nébu2uuef45nébu27uuef45nébu277uuef45nébu2777uuef45nébu73uuef45nébu3uuef45nébu37uuef45nébu377uuef45nébu3777uuef45nébu372uuef45nébu32uuef45nébu327uuef45nébu3277uuef45nébu32777uuef45nébu373uuef45nébu33uu 7bànué5708cäéuamaêuu61uuef45nébu7uuef45nébu77uuef45nébu777uuef45nébu72uuef45nébu2uuef45nébu27uuef45nébu277uuef45nébu2777uuef45nébu73uuef45nébu3uuef45nébu37uuef45nébu377uuef45nébu3777uuef45nébu372uuef45nébu32uuef45nébu327uuàée8rkué5708cäéuuef45nébu7uuef45nébu77uuef45nébu777uuef45nébu72uuef45nébu2uuef45nébu27uuef45nébu277uuef45nébu2777uuef45nébu73uuef45nébu3uuef45nébu37uuef45nébu377uuh88vu8réuam19uuuuuef45nébu7uulé00u5b7reéuà8ucér84u4rku0äee4u4béur8luyäànu 4j70wuéàn4néàu8 unféuhä8r454bnéàuhänu7ul4bruw8äu7 uw8äuk8rnuné00ujéunf4nunf7àujé4ràul4bu7 uw8äuàn700unbwun8uké érkunféu7r 4j7éàu4rkuf8bb8bàu5éb5énb4nékuhwunf4nu4rn7efb7àn7ubé400wuhé07é2éuféu7àu4rn7efb7àn7ul700uf42éur8nf7rcuj8béun8uk8ul7nfuw8äu4rkuw8äu4béur8u08rcébujwu b7érkur8u08rcébujwu 47nf ä0uà042éu4àuw8äue400uw8äbàé0 uhänuf8luk8uw8äuk8'"
            ],
            "application/vnd.google.colaboratory.intrinsic+json": {
              "type": "string"
            }
          },
          "metadata": {},
          "execution_count": 49
        }
      ]
    },
    {
      "cell_type": "code",
      "source": [
        "encrypt_WAP = encrypt_frequency_method(counts_WAP, ' '.join(WarAndPeace[:4]))\n",
        "encrypt_WAP"
      ],
      "metadata": {
        "colab": {
          "base_uri": "https://localhost:8080/",
          "height": 105
        },
        "id": "GVh5grF9UDZG",
        "outputId": "0515ad94-bc1d-42ed-f7d3-1bd39dc0b062"
      },
      "execution_count": null,
      "outputs": [
        {
          "output_type": "execute_result",
          "data": {
            "text/plain": [
              "'лppнzлzhнpâââбjcà7уâоâiоéââôуisàâоmjxô67sàâéciу7âyujуâ7одcyуxjоdуâ6cyô6cвcâдудâ7одудcxâщéъвcxâüécоmjxщx7оxâüоôу6xy3âc6éуеуx6âвyъäо7ъâxвcâiоéccкъкx7о3âоâюоycôcюооб\\t6уâд7овуâоmâéуmé3щуâjxd7sшâüc6ciъâd6câc7уâcäcâjôxiââcâеоm7оâоâôixé6оâcâyfäjоâоâdxô6оâcâiъеxô6jxâоâвxécоmixâcâôyуjxâоâücщjовxâcâjcà7xâоâiоéxбüxéjsàâ6ciâm7удciо6âôâjsôwоiâcäкxô6jciâécôôооâиhиâjxдуâücдуmу7sâjmуоicc67cwx7о3âixещъâécщо6xy3iоâоâщx6uiоâjâôxiuxâécô6cjsшâôjу6cjô6jcâъâäcyдc7ôдошâо76éовоâъâäxmъшcjsшâjxdxéуâjâôуyc7xâюéxàyо7sâуüwxéxéâäуysâjâicôдjxâоâüx6xéäъéвxââââââââââââyxjâ7одcyуxjоdâ6cyô6càdуô6uâüxéjу3ââdуô6uâqzcéу3ââdуô6uâ6éx6u3ââââââââââââââyxjâ7одcyуxjоdâ6cyô6càââjcà7уâоâiоéââ6ciâзâââââdуô6uâüxéjу3ââââââhââââxйâqhпpâтнpâэthpîпâгçpпыâпzâ1аîaапыâpпâынpzâэ1аыâaапâцпыâлэлpлгпыâцпыâücixô6u3âцпâ1лâ0лтh11пâqанpлэлtzп'"
            ],
            "application/vnd.google.colaboratory.intrinsic+json": {
              "type": "string"
            }
          },
          "metadata": {},
          "execution_count": 50
        }
      ]
    },
    {
      "cell_type": "code",
      "source": [
        "def decryption_frequency_method(encrypt, mydict):\n",
        "  counts_dec = Counter(encrypt)\n",
        "  for letter in list(counts_dec):\n",
        "    counts_dec[letter] /= len(encrypt)\n",
        "  \n",
        "  de_counts_dec =[]\n",
        "  input_list = list(mydict.values())\n",
        "  for i in encrypt:\n",
        "    difference = lambda input_list : abs(input_list - counts_dec[i]) \n",
        "    res = min(input_list, key=difference)\n",
        "    letter = list(mydict.keys())[input_list.index(res)]\n",
        "    de_counts_dec.append(letter)\n",
        "  return ''.join(de_counts_dec)"
      ],
      "metadata": {
        "id": "ljm0cDUHUmGo"
      },
      "execution_count": null,
      "outputs": []
    },
    {
      "cell_type": "code",
      "source": [
        "decryption_AK = decryption_frequency_method(encrypt_AK, counts_AK)\n",
        "decryption_AK"
      ],
      "metadata": {
        "colab": {
          "base_uri": "https://localhost:8080/",
          "height": 87
        },
        "id": "UgLrioFMVyuy",
        "outputId": "1c735025-509d-48a4-dcbd-d65183c8467c"
      },
      "execution_count": null,
      "outputs": [
        {
          "output_type": "execute_result",
          "data": {
            "text/plain": [
              "'эююээээээю   оеео ьораетео оуте тз нодзз зеодаетсзз родоеот кпто сокнсозо еоьтеоаснп нсотюай оэортздод эрозой тна ньонскттза надпт йозойт урйз ео урйзо ьойуоп еаньонскттоп надпп еаньонсктто йонтоадй эсо ьетзо о таьезз эаееонспз о кюютт о тара о надпа о ьакотаьаньод уонсотенста            кат сокнсойродое ютроьозо уззоетп  ьонсп йартопэ   кат сокнсой  оеео ьораетео     родое ютроьозо уззоетп     оеео ьораетео йорозтко нотрадаеетьот тнауеатеонспю ноуарйоетп еаоюзьойеоп нтоюоуо роньотоееонсп йотанстотоетп йутттсакпео ноьасоктнп т эсод родоеа н эакпеонспю зйуойанстаееозо тззкпуо отсоро ео йтзеп'"
            ],
            "application/vnd.google.colaboratory.intrinsic+json": {
              "type": "string"
            }
          },
          "metadata": {},
          "execution_count": 52
        }
      ]
    },
    {
      "cell_type": "code",
      "source": [
        "decryption_WAPE = decryption_frequency_method(encrypt_WAPE, counts_WAPE)\n",
        "decryption_WAPE"
      ],
      "metadata": {
        "colab": {
          "base_uri": "https://localhost:8080/",
          "height": 140
        },
        "id": "03xldM3vYDH6",
        "outputId": "50b1bff1-31cb-4feb-ca07-9cababa15dfa"
      },
      "execution_count": null,
      "outputs": [
        {
          "output_type": "execute_result",
          "data": {
            "text/plain": [
              "'tat otcjtat xkttbkttx tkccx cx xtt tbk ottat kk ktc tckvtck  taev tkccx ev xct tat kvt cx tbkcbt tbkxattt tt bc acvt tbk xeta tkxcvt bc ttvtteatecbv xattvctltt  kck xtk acok et xelt et txtk ct ttkvt et kbktt tat tttxv cx tat otcjtat xkttbkttx keatbvt ebakkktk xeta taev tkccx ct cbkebt tt xxxxkttbkttxctx   tetkt xtt tbk ottat  tktact ktc tckvtck  tttbvkttctv kckevt tbk tkkxtt xtkkt  ocvtebx kttt jtbkttk kx xxx1 tkccx xqxx  ktvt koktttk xttaa kj xxkq  ktbxktxt tbxkeva    vtttt cx taev otcjtat xkttbkttx tkccx xtt tbk ottat   tb tbcbkxckv lckkbtttt tbk ktlek xekxtt      xtt tbk ottat  kk ktc tckvtcktckvtce  acbttbtv  kccx cbt kxxj  aatottt e  aatottt ee  aatottt eee  aatottt el  aatottt l  aatottt le  aatottt lee  aatottt leee  aatottt eh  aatottt h  aatottt he  aatottt hee  aatottt heee  aatottt hel  aatottt hl  aatottt hle  aatottt hlee  aatottt hleee  aatottt heh  aatottt hh  aatottt hhe  aatottt hhee  aatottt hheee  aatottt hhel  aatottt hhl  aatottt hhle  aatottt hhlee  aatottt hhleee  kccx txc kxxj  aatottt e  aatottt ee  aatottt eee  aatottt el  aatottt l  aatottt le  aatottt lee  aatottt leee  aatottt eh  aatottt h  aatottt he  aatottt hee  aatottt heee  aatottt hel  aatottt hl  aatottt hle  aatottt hlee  aatottt hleee  aatottt heh  aatottt hh  aatottt hhe  kccx tattt kxxj  aatottt e  aatottt ee  aatottt eee  aatottt el  aatottt l  aatottt le  aatottt lee  aatottt leee  aatottt eh  aatottt h  aatottt he  aatottt hee  aatottt heee  aatottt hel  aatottt hl  aatottt hle  aatottt hlee  aatottt hleee  aatottt heh  kccx xckt kxxq  aatottt e  aatottt ee  aatottt eee  aatottt el  aatottt l  aatottt le  aatottt lee  aatottt leee  aatottt eh  aatottt h  aatottt he  aatottt hee  aatottt heee  aatottt hel  aatottt hl  aatottt hle  kccx xelt kxxq  x1  aatottt e  aatottt ee  aatottt eee  aatottt el  aatottt l  aatottt le  aatottt lee  aatottt leee  aatottt eh  aatottt h  aatottt he  aatottt hee  aatottt heee  aatottt hel  aatottt hl  aatottt hle  aatottt hlee  aatottt hleee  aatottt heh  aatottt hh  aatottt hhe  aatottt hhee  kccx veh kxxx  kx  aatottt e  aatottt ee  aatottt eee  aatottt el  aatottt l  aatottt le  aatottt lee  aatottt leee  aatottt eh  aatottt h  aatottt he  aatottt hee  aatottt heee  aatottt hel  aatottt hl  aatottt hle  aatottt hlee  aatottt hleee  aatottt heh  aatottt hh  aatottt hhe  aatottt hhee  aatottt hheee  aatottt hhel  aatottt hhl  aatottt hhle  kccx vtltb kxkx  kk  aatottt e  aatottt ee  aatottt eee  aatottt el  aatottt l  aatottt le  aatottt lee  aatottt leee  aatottt eh  aatottt h  aatottt he  aatottt hee  aatottt heee  kccx texat kxkk  kx  aatottt e  aatottt ee  aatottt eee  aatottt el  aatottt l  aatottt le  aatottt lee  aatottt leee  aatottt eh  aatottt h  aatottt he  aatottt hee  aatottt heee  aatottt hel  aatottt hl  aatottt hle  aatottt hlee  aatottt hleee  aatottt heh  aatottt hh  aatottt hhe  aatottt hhee  kccx bebt kxkx  aatottt e  aatottt ee  aatottt eee  aatottt el  aatottt l  aatottt le  aatottt lee  aatottt leee  aatottt eh  aatottt h  aatottt he  aatottt hee  aatottt heee  aatottt hel  aatottt hl  aatottt hle  aatottt hlee  aatottt hleee  aatottt heh  aatottt hh  aatottt hhe  aatottt hhee  aatottt hheee  kccx ttb kxkx  aatottt e  aatottt ee  aatottt eee  aatottt el  aatottt l  aatottt le  aatottt lee  aatottt leee  aatottt eh  aatottt h  aatottt he  aatottt hee  aatottt heee  aatottt hel  aatottt hl  aatottt hle  aatottt hlee  aatottt hleee  aatottt heh  aatottt hh  aatottt hhe  aatottt hhee  aatottt hheee  aatottt hhel  aatottt hhl  aatottt hhle  aatottt hhlee  aatottt hhleee  aatottt hheh  aatottt hhh  aatottt hhhe  aatottt hhhee  aatottt hhheee  aatottt hhhel  aatottt hhhl  aatottt hhhle  aatottt hhhlee  aatottt hhhleee  aatottt hhheh  kccx tktltb kxkx  aatottt e  aatottt ee  aatottt eee  aatottt el  aatottt l  aatottt le  aatottt lee  aatottt leee  aatottt eh  aatottt h  aatottt he  aatottt hee  aatottt heee  aatottt hel  aatottt hl  aatottt hle  aatottt hlee  aatottt hleee  aatottt heh  aatottt hh  aatottt hhe  aatottt hhee  aatottt hheee  aatottt hhel  aatottt hhl  aatottt hhle  aatottt hhlee  aatottt hhleee  aatottt hheh  aatottt hhh  aatottt hhhe  aatottt hhhee  aatottt hhheee  aatottt hhhel  kccx txtklt kxkx  aatottt e  aatottt ee  aatottt eee  aatottt el  aatottt l  aatottt le  aatottt lee  aatottt leee  aatottt eh  aatottt h  aatottt he  aatottt hee  aatottt heee  aatottt hel  aatottt hl  aatottt hle  kccx taettttb kxkx  aatottt e  aatottt ee  aatottt eee  aatottt el  aatottt l  aatottt le  aatottt lee  aatottt leee  aatottt eh  aatottt h  aatottt he  aatottt hee  aatottt heee  aatottt hel  aatottt hl  aatottt hle  aatottt hlee  aatottt hleee  aatottt heh  kccx xckttttb kxkx  aatottt e  aatottt ee  aatottt eee  aatottt el  aatottt l  aatottt le  aatottt lee  aatottt leee  aatottt eh  aatottt h  aatottt he  aatottt hee  aatottt heee  aatottt hel  aatottt hl  aatottt hle  aatottt hlee  aatottt hleee  aatottt heh  kccx xextttb kxkx  kq  aatottt e  aatottt ee  aatottt eee  aatottt el  aatottt l  aatottt le  aatottt lee  aatottt leee  aatottt eh  aatottt h  aatottt he  aatottt hee  aatottt heee  aatottt hel  aatottt hl  aatottt hle  aatottt hlee  aatottt hleee  aatottt heh  aatottt hh  xetvt toekcxkt kxkq  xx  aatottt e  aatottt ee  aatottt eee  aatottt el  aatottt l  aatottt le  aatottt lee  aatottt leee  aatottt eh  aatottt h  aatottt he  aatottt hee  aatottt heee  aatottt hel  aatottt hl  aatottt hle  vtacbk toekcxkt  aatottt e  aatottt ee  aatottt eee  aatottt el  aatottt l  aatottt le  aatottt lee  aatottt leee  aatottt eh  aatottt h  aatottt he  aatottt hee  kccx cbt kxxj     aatottt e  xtkk otebat vc xtbct tbk kkaat ttt bcx jkvt xtxekk tvttttv cx tat kkcbtottttv kkt e xttb kck ex kck kcbt ttkk xt tatt taev xttbv xtt ex kck vtekk ttk tc ktxtbk tat ebxtxetv tbk acttctv ottottttttk kk tatt tbteaatevte tttkkk ktketlt at ev tbteaatevte xekk atlt bctaebx xctt tc kc xeta kck tbk kck ttt bc kcbxtt xk xtetbk bc kcbxtt xk xtetaxkk vktlt tv kck atkk kcktvtkx kkt acx kc kck kc'"
            ],
            "application/vnd.google.colaboratory.intrinsic+json": {
              "type": "string"
            }
          },
          "metadata": {},
          "execution_count": 53
        }
      ]
    },
    {
      "cell_type": "code",
      "source": [
        "decryption_WAP = decryption_frequency_method(encrypt_WAP, counts_WAP)\n",
        "decryption_WAP"
      ],
      "metadata": {
        "colab": {
          "base_uri": "https://localhost:8080/",
          "height": 105
        },
        "id": "VNP4sOLcYDEs",
        "outputId": "a39f9f68-d929-4d43-cc23-166b4c405800"
      },
      "execution_count": null,
      "outputs": [
        {
          "output_type": "execute_result",
          "data": {
            "text/plain": [
              "'чззeшчшшeз   цтачкт а кар  вткбч абтавткбч рактк дчтт каяадтатазт тадвтача ятя каятяаа йрзчаа зраабтайакаа завттадб атртютат чдзчакз ача караацзцакаб а цадавацаацdтт якачт аб ртбрбйт тазкбe затакз зта акт ача твак  а юабка а вкарта а дdчта а завта а кзюавтта а чараабка а вдтта а зайтача а тачка а карацзартбч так бктяакат в тбвцак ачцавттак равваа uшu таят заятбткб тбтакааткацакаб каюйз райатадбка а йатчка т вакча равтатбe втттатвтта з чадяаквяаe актрача з чабзeатбe тазарт т втдака црачдакб тзцарар чтдб т кавята а затарчзрча            дат каяадтатаз тадвтачзтвтч зарттб  зтвтч цшартб  зтвтч тратчб              дат каяадтатаз тадвтач  тачкт а кар  так d     зтвтч зарттб      ш    аd цшгз ueз юuшзuг udзгй гш eeuueгй зг йeзш юeeй ueг цгй чючзчuгй цгй закавтчб цг eч dчuшeeг цeeзчючuшг'"
            ],
            "application/vnd.google.colaboratory.intrinsic+json": {
              "type": "string"
            }
          },
          "metadata": {},
          "execution_count": 54
        }
      ]
    },
    {
      "cell_type": "code",
      "source": [
        "def probability_decryption(decryption, text):\n",
        "  count = 0\n",
        "  for i in range(min(len(text), len(decryption))):\n",
        "    if decryption[i] == text[i]:\n",
        "      count += 1\n",
        "  return count / len(text)"
      ],
      "metadata": {
        "id": "ACVbl51vYDB3"
      },
      "execution_count": null,
      "outputs": []
    },
    {
      "cell_type": "code",
      "source": [
        "#AnnaKarenina\n",
        "probability_AK = probability_decryption(decryption_AK, ' '.join(AnnaKarenina[:4]))\n",
        "probability_AK"
      ],
      "metadata": {
        "colab": {
          "base_uri": "https://localhost:8080/"
        },
        "id": "-FmMgctyYC3M",
        "outputId": "5c7065f9-e356-49ab-a0d6-7d892fadcced"
      },
      "execution_count": null,
      "outputs": [
        {
          "output_type": "execute_result",
          "data": {
            "text/plain": [
              "0.3232830820770519"
            ]
          },
          "metadata": {},
          "execution_count": 56
        }
      ]
    },
    {
      "cell_type": "code",
      "source": [
        "#WarAndPeaceEng\n",
        "probability_WAPE = probability_decryption(decryption_WAPE, ' '.join(WarAndPeaceEng[:4]))\n",
        "probability_WAPE"
      ],
      "metadata": {
        "colab": {
          "base_uri": "https://localhost:8080/"
        },
        "id": "nrN3dmigYCso",
        "outputId": "64a3b51d-f7fe-421d-d69a-5f4896895fb6"
      },
      "execution_count": null,
      "outputs": [
        {
          "output_type": "execute_result",
          "data": {
            "text/plain": [
              "0.3055601659751037"
            ]
          },
          "metadata": {},
          "execution_count": 57
        }
      ]
    },
    {
      "cell_type": "code",
      "source": [
        "#WarAndPeace\n",
        "probability_WAP = probability_decryption(decryption_WAP, ' '.join(WarAndPeace[:4]))\n",
        "probability_WAP"
      ],
      "metadata": {
        "colab": {
          "base_uri": "https://localhost:8080/"
        },
        "id": "HnQ9dKDjbI_W",
        "outputId": "a96cf189-f3b1-4cab-c720-846b7d832af0"
      },
      "execution_count": null,
      "outputs": [
        {
          "output_type": "execute_result",
          "data": {
            "text/plain": [
              "0.28607594936708863"
            ]
          },
          "metadata": {},
          "execution_count": 58
        }
      ]
    },
    {
      "cell_type": "markdown",
      "source": [
        "### __Качество предсказания букв на базовом частотном методе по Шерлоку Холмсу около 30 процентов__: AnnaKarenina - 0.3232830820770519; WarAndPeaceEng - 0.3055601659751037; WarAndPeace - 0.28607594936708863"
      ],
      "metadata": {
        "id": "OJx-fh_0MXTW"
      }
    },
    {
      "cell_type": "markdown",
      "source": [
        "#2. Реализуйте частотный метод биграмм по Шерлоку Холмсу:"
      ],
      "metadata": {
        "id": "pBLJ98Jljjt-"
      }
    },
    {
      "cell_type": "code",
      "source": [
        "def frequency_bigrams(text):\n",
        "  list_a = []\n",
        "  list_b = []\n",
        "  for i in range(len(text) - 1):\n",
        "    if text[i: i+2] not in list_a:\n",
        "      list_a.append(text[i: i+2])\n",
        "      list_b.append(text.count(text[i: i+2]) / (len(text) / 2))\n",
        "  return dict(zip(list_a, list_b))"
      ],
      "metadata": {
        "id": "T5AV0P0fcBiC"
      },
      "execution_count": null,
      "outputs": []
    },
    {
      "cell_type": "code",
      "source": [
        "frequency_bigrams_AK = frequency_bigrams(' '.join(AnnaKarenina))"
      ],
      "metadata": {
        "id": "CEvR8Oh8cBgH"
      },
      "execution_count": null,
      "outputs": []
    },
    {
      "cell_type": "code",
      "source": [
        "frequency_bigrams_WAPE = frequency_bigrams(' '.join(WarAndPeaceEng))"
      ],
      "metadata": {
        "id": "BwEYRwrm7yPx"
      },
      "execution_count": null,
      "outputs": []
    },
    {
      "cell_type": "code",
      "source": [
        "frequency_bigrams_WAP = frequency_bigrams(' '.join(WarAndPeace))"
      ],
      "metadata": {
        "id": "7PH9CoFB7zoM"
      },
      "execution_count": null,
      "outputs": []
    },
    {
      "cell_type": "code",
      "source": [
        "def encrypt_frequency_method_bigrams(counts, text):\n",
        "  list_a = list(counts)\n",
        "  list_b = list(counts)\n",
        "  random.shuffle(list_b)\n",
        "  mapping = zip(list_a, list_b)\n",
        "  mapping = dict(mapping)\n",
        "  decoder = ''\n",
        "  for i in range(0, len(text) - 1, 2):\n",
        "    decoder += ''.join(mapping[text[i:i+2]])\n",
        "  return decoder"
      ],
      "metadata": {
        "id": "WwY5Tn3G9aW-"
      },
      "execution_count": null,
      "outputs": []
    },
    {
      "cell_type": "code",
      "source": [
        "#AnnaKarenina\n",
        "encrypt_AK_bigrams = encrypt_frequency_method_bigrams(frequency_bigrams_AK, ' '.join(AnnaKarenina[:4]))\n",
        "encrypt_AK_bigrams"
      ],
      "metadata": {
        "colab": {
          "base_uri": "https://localhost:8080/",
          "height": 87
        },
        "id": "HODudTIX8F1D",
        "outputId": "9e04fa9a-55b6-4d21-80e7-00c8956940bc"
      },
      "execution_count": null,
      "outputs": [
        {
          "output_type": "execute_result",
          "data": {
            "text/plain": [
              "'opллdu97лбяхwnэсимывафst6 смтпеnймеиn хтрю6 чрstфьcie7сыюфibтуg8вът9рццуcé6 g36  2ьоеичмsèаlwnâcnnх тзеу  msвылирlétнрбитрсреи2йsaобн1иэрз00днымим00днимывсe 1ымбцünрц 3g8впгоdoвпкнétнрбитриммоrt19s1уф 6лжstдосми9зшююciемэско9 cicéр1дирзcéеяафсмеи2йruсмяк58a1зшбцt1х8ghрца льткрlяхяхяхяхяхиафювът9рцбъe7сыеnбнe7t1rbн3хтmme6яхünрци3ъ щр 1реяхttib 6ё  6выwnэсимывафst6 яхяхhüтзmmп myушцуcéлзапstвпяхяхmm6 лж 8 м61иммо  imдюеиa1афчрэслгa1и9гов2фююфрц42еи47чу вstвпкндзвбез6 впrtдз47им  дхa1mmюфрци3моеярцsgg8stвпl2трff58зюcéрыпбчм 38ми9уф 6х8e7сыкнеиio58зюкоаэéqдгghóмрцеяэсцуcé63akabимяч 6  ымимdicr'"
            ],
            "application/vnd.google.colaboratory.intrinsic+json": {
              "type": "string"
            }
          },
          "metadata": {},
          "execution_count": 64
        }
      ]
    },
    {
      "cell_type": "code",
      "source": [
        "#WarAndPeaceEng\n",
        "encrypt_WAPE_bigrams = encrypt_frequency_method_bigrams(frequency_bigrams_WAPE, ' '.join(WarAndPeaceEng[:4]))\n",
        "encrypt_WAPE_bigrams"
      ],
      "metadata": {
        "colab": {
          "base_uri": "https://localhost:8080/",
          "height": 140
        },
        "id": "vnzOpFWl8FyI",
        "outputId": "ec7f4ab0-b0d4-4d36-dcfe-e12fc55ef507"
      },
      "execution_count": null,
      "outputs": [
        {
          "output_type": "execute_result",
          "data": {
            "text/plain": [
              "'sbegsomm 7fgbdti 6ypharjwgxy31mioxgsp é bc21hkrqpkncpuirpurqno6suqrjwgxyigdbmpnoihmhbuoqfkttste8gs xhwypegpt80ncldktgsp mi0 tef441kt80nc1akttyyk uywmi56ohfiedv aq byourinenrq0 atpaeg0 gsgfrqmpkylybulbfgyggnv sbegtiewuq31noihé lwfnykatzvhrpwlnnwuphrbulbroyjgnksjosbno6suqrjwgxympoqxuwsegptmiaobdti 6yp89ln87no0 pkmioxgsp é bc2187eksbmpnw2 no3rkth 87 3ttpsptmpuqvbeibugsp gs 8llv e7eeegé ysnjosagpteg2h joxrqwtxcbvskrjwgxyvsbv87zaktmhugpti yooxffeygdgbna87zaos fotcloswlf38787ktoxfg31no6suqsomm 7fgbdti 6ypharjwgxygfv ttks mvreg87ttgse6 x41eà 43rygtiypgsp aghgwimiwiotv 8787mioxgsp é bc2187spnw2 no3rkth puirpuuwindttihvuqhkwgxydtegdd9t87ffhdtiv uwin56iwyplbuwin56iwyplb k87ffhdtiv pa87ffhdtiv ssin56iwyp 4uwin56iwyp 4 k87ffhdtiv df k87ffhdtiv 4587ffhdtiv euin56iwypfpuwin56iwypfp k87ffhdtiv su k87ffhdtiv sussin56iwypfpssin56iwypfpdf87ffhdtiv on k87ffhdtiv on kuwin56iwypfp4587ffhdtiv uy87ffhdtiv uyuwin56iwypfpsuuwin56iwypfpsu k87ffhdtiv uypa87ffhdtiv uyssin56iwypfponuwin56iwypfpon k87ffhdtiv uydf k87 9lunoifeyhogdin56iwyplb87ffhdtiv  k87ffhdtiv  kuwin56iwyplbssin56iwyp 487ffhdtiv df87ffhdtiv dfuwin56iwyp 4 kuwin56iwyplbeuin56iwypfp87ffhdtiv su87ffhdtiv suuwin56iwypfp kuwin56iwypfppa87ffhdtiv on87ffhdtiv onuwin56iwypfpdfuwin56iwypfpdf k87ffhdtiv sueuin56iwypfpeuin56iwypfpsu87 9lunoyvdmeyhogdin56iwyplb87ffhdtiv  k87ffhdtiv  kuwin56iwyplbssin56iwyp 487ffhdtiv df87ffhdtiv dfuwin56iwyp 4 kuwin56iwyplbeuin56iwypfp87ffhdtiv su87ffhdtiv suuwin56iwypfp kuwin56iwypfppa87ffhdtiv on87ffhdtiv onuwin56iwypfpdfuwin56iwypfpdf k87ffhdtiv sueuhkwgxyioujeyhochin56iwyplb87ffhdtiv  k87ffhdtiv  kuwin56iwyplbssin56iwyp 487ffhdtiv df87ffhdtiv dfuwin56iwyp 4 kuwin56iwyplbeuin56iwypfp87ffhdtiv su87ffhdtiv suuwin56iwypfp kuwin56iwypfppa87ffhdtiv on87ffhdtiv onuwhkwgxyntedeyhochyflvin56iwyplb87ffhdtiv  k87ffhdtiv  kuwin56iwyplbssin56iwyp 487ffhdtiv df87ffhdtiv dfuwin56iwyp 4 kuwin56iwyplbeuin56iwypfp87ffhdtiv su87ffhdtiv suuwin56iwypfp kuwin56iwypfppa87ffhdtiv on87ffhdtiv onuwin56iwypfpdfuwin56iwypfpdf k87ffhdtiv sueuin56iwypfpeuin56iwypfpsu87ffhdtiv uy k87 9lugq45eyhodleyowin56iwyplb87ffhdtiv  k87ffhdtiv  kuwin56iwyplbssin56iwyp 487ffhdtiv df87ffhdtiv dfuwin56iwyp 4 kuwin56iwyplbeuin56iwypfp87ffhdtiv su87ffhdtiv suuwin56iwypfp kuwin56iwypfppa87ffhdtiv on87ffhdtiv onuwin56iwypfpdfuwin56iwypfpdf k87ffhdtiv sueuin56iwypfpeuin56iwypfpsu87ffhdtiv uy k87ffhdtiv uy kuwin56iwypfpsussin56iwypfpon87ffhdtiv uydf87 9lugqanhreyecoweytoin56iwyplb87ffhdtiv  k87ffhdtiv  kuwin56iwyplbssin56iwyp 487ffhdtiv df87ffhdtiv dfuwin56iwyp 4 kuwin56iwyplbeuin56iwypfp87ffhdtiv su87ffhdtiv suuwin56iwypfp kuwhkwgxy9 t fgddn 87co87ffhdtiv uwin56iwyplbuwin56iwyplb k87ffhdtiv pa87ffhdtiv ssin56iwyp 4uwin56iwyp 4 k87ffhdtiv df k87ffhdtiv 4587ffhdtiv euin56iwypfpuwin56iwypfp k87ffhdtiv su k87ffhdtiv sussin56iwypfpssin56iwypfpdf87ffhdtiv on k87ffhdtiv on kuwin56iwypfp4587ffhdtiv uy87ffhdtiv uyuwin56iwypfpsuuwhkwgxylce8eyecynin56iwyplb87ffhdtiv  k87ffhdtiv  kuwin56iwyplbssin56iwyp 487ffhdtiv df87ffhdtiv dfuwin56iwyp 4 kuwin56iwyplbeuin56iwypfp87ffhdtiv su87ffhdtiv suuwin56iwypfp kuwin56iwypfppa87ffhdtiv on87ffhdtiv onuwin56iwypfpdfuwin56iwypfpdf k87ffhdtiv sueuin56iwypfpeuin56iwypfpsu87ffhdtiv uy k87ffhdtiv uy kuwhkwgxytic ddco87ffhdtiv uwin56iwyplbuwin56iwyplb k87ffhdtiv pa87ffhdtiv ssin56iwyp 4uwin56iwyp 4 k87ffhdtiv df k87ffhdtiv 4587ffhdtiv euin56iwypfpuwin56iwypfp k87ffhdtiv su k87ffhdtiv sussin56iwypfpssin56iwypfpdf87ffhdtiv on k87ffhdtiv on kuwin56iwypfp4587ffhdtiv uy87ffhdtiv uyuwin56iwypfpsuuwin56iwypfpsu k87ffhdtiv uypa87ffhdtiv uyssin56iwypfponuwin56iwypfpon k87ffhdtiv uydf k87ffhdtiv uy4587ffhdtiv uyeuin56iwypfpuyuwin56iwypfpuy k87ffhdtiv uysu k87ffhdtiv uysussin56iwypfpuyssin56iwypfpuydf87ffhdtiv uyon k87ffhdtiv uyon kuwin56iwypfpuy4587 9luclpkedc ddco87ffhdtiv uwin56iwyplbuwin56iwyplb k87ffhdtiv pa87ffhdtiv ssin56iwyp 4uwin56iwyp 4 k87ffhdtiv df k87ffhdtiv 4587ffhdtiv euin56iwypfpuwin56iwypfp k87ffhdtiv su k87ffhdtiv sussin56iwypfpssin56iwypfpdf87ffhdtiv on k87ffhdtiv on kuwin56iwypfp4587ffhdtiv uy87ffhdtiv uyuwin56iwypfpsuuwin56iwypfpsu k87ffhdtiv uypa87ffhdtiv uyssin56iwypfponuwin56iwypfpon k87ffhdtiv uydf k87ffhdtiv uy4587ffhdtiv uyeuin56iwypfpuyuwin56iwypfpuy k87ffhdtiv uysu k87ffhdtiv uysusshkwgxyliraedeyecynin56iwyplb87ffhdtiv  k87ffhdtiv  kuwin56iwyplbssin56iwyp 487ffhdtiv df87ffhdtiv dfuwin56iwyp 4 kuwin56iwyplbeuin56iwypfp87ffhdtiv su87ffhdtiv suuwin56iwypfp kuwin56iwypfppa87ffhdtiv on87ffhdtiv onuwhkwgxysbkutihreyecynin56iwyplb87ffhdtiv  k87ffhdtiv  kuwin56iwyplbssin56iwyp 487ffhdtiv df87ffhdtiv dfuwin56iwyp 4 kuwin56iwyplbeuin56iwypfp87ffhdtiv su87ffhdtiv suuwin56iwypfp kuwin56iwypfppa87ffhdtiv on87ffhdtiv onuwin56iwypfpdfuwin56iwypfpdf k87ffhdtiv sueuhkwgxyioujtihreyecynin56iwyplb87ffhdtiv  k87ffhdtiv  kuwin56iwyplbssin56iwyp 487ffhdtiv df87ffhdtiv dfuwin56iwyp 4 kuwin56iwyplbeuin56iwypfp87ffhdtiv su87ffhdtiv suuwin56iwypfp kuwin56iwypfppa87ffhdtiv on87ffhdtiv onuwin56iwypfpdfuwin56iwypfpdf k87ffhdtiv sueuhkwgxyntrrdmc ddco87na87ffhdtiv uwin56iwyplbuwin56iwyplb k87ffhdtiv pa87ffhdtiv ssin56iwyp 4uwin56iwyp 4 k87ffhdtiv df k87ffhdtiv 4587ffhdtiv euin56iwypfpuwin56iwypfp k87ffhdtiv su k87ffhdtiv sussin56iwypfpssin56iwypfpdf87ffhdtiv on k87ffhdtiv on kuwin56iwypfp4587ffhdtiv uy87nttmfgtj12ydaueyecvixcowin56iwyplb87ffhdtiv  k87ffhdtiv  kuwin56iwyplbssin56iwyp 487ffhdtiv df87ffhdtiv dfuwin56iwyp 4 kuwin56iwyplbeuin56iwypfp87ffhdtiv su87ffhdtiv suuwin56iwypfp kuwin56iwypfppa87ffhdtiv on87ffhdtiv onuwgq 7dtkstj12ydau87ffhdtiv uwin56iwyplbuwin56iwyplb k87ffhdtiv pa87ffhdtiv ssin56iwyp 4uwin56iwyp 4 k87ffhdtiv df k87ffhdtiv 4587ffhdtiv euin56iwypfpuwin56iwypfp k87 9luoqe8eyhogd8787ffhdtiv uwmiralqsows21gqncote6elttksyjvyeloxege6txxhktdb w12rq24lptiuq31noihhk15er64nd24hkzvlbmioxc stefunaq bagdtfgtifmyoegsbptno6suqllttuqgfv unaq bgqnjfmnotknoncgniip noihlbdk wnguqttksppoampuq mdwf6nxtiksspno56fgttnjfftyktuw1af4nkhkrangeduoegiggshvupyvignjmi12lq56ed80fd6sosyompegpuagncjosbaq bgsp aq bgs1a80ncvbosypyorq13ngp 80ncvbosypyorqya0 crkegqzaedgsuqstefwnfmaq btmrafk46fgpptxnvaq bag'"
            ],
            "application/vnd.google.colaboratory.intrinsic+json": {
              "type": "string"
            }
          },
          "metadata": {},
          "execution_count": 65
        }
      ]
    },
    {
      "cell_type": "code",
      "source": [
        "#WarAndPeace\n",
        "encrypt_WAP_bigrams = encrypt_frequency_method_bigrams(frequency_bigrams_WAP, ' '.join(WarAndPeace[:4]))\n",
        "encrypt_WAP_bigrams"
      ],
      "metadata": {
        "colab": {
          "base_uri": "https://localhost:8080/",
          "height": 105
        },
        "id": "HQD_gMSH8FqK",
        "outputId": "17c284a8-cc54-45b3-b2ba-6369b464ad12"
      },
      "execution_count": null,
      "outputs": [
        {
          "output_type": "execute_result",
          "data": {
            "text/plain": [
              "'допфzwаnши3юlâznéuуйucбоnbтдюхмхdmмк сplмхошнюр ежнмуйzaéaпеанииуйсуйрсухеелдстрыздсэцlrцохе 8orжьмктф нpoийрхюч цжунпьи жnsodзллюкжт хесжснêmсэитzaжуucяжгчônяж гikуйдэènуйimошlé тхиаюavpêhtбьсуgèнысуыкebыкénаюoehlыкжнimzadmтдйнхвucyeгннтucucущилucyegèлвиляюdmodgoжьтю 8yeас 3 8ucбьtgèn 8yeznéu 8ucбоvегдgoяеptсуhlzmдснюktтдаюдлjuhlвгитилznhlяцекiéкюсhаючруйбьtôlypêаюlyдфêmplш  нcлсжтзюгошишkt цааucucеюwoбоаютдloжюошмдсуяеhtuyючлчилznьбnkиcéa6 тмhtvurvènuclàdhsbkiяеhtяюущьиаютды  z 8фоl ivpêоов gogonkы лётаspжеяюdmийnsgoзюрж 83ю3ю3ю3ю3юежантрызиcик80apсуйрсуоэктwoийgoрфжуныктwonlяйьижуныктwoзяvеwoжу3ю3ю3ю3ю3ю3юежантрызиcик80apсуйрсуptаюбзebdmсжсн3юсуhlsu3ю3юбкилоеpôжмтш3ю3ю3юnr3ют hatyуцэршизбv кнoгamoтэлсмчтioohбяtnoгьсübзбceэлohoгулэлнодоп бяmoбяийню сwoжуулчтbивк ффмoгуэшино хrs'"
            ],
            "application/vnd.google.colaboratory.intrinsic+json": {
              "type": "string"
            }
          },
          "metadata": {},
          "execution_count": 66
        }
      ]
    },
    {
      "cell_type": "code",
      "source": [
        "def decryption_frequency_method_bigrams(encrypt, mydict):\n",
        "  counts_dec = frequency_bigrams(encrypt)\n",
        "  \n",
        "  de_counts_dec =[]\n",
        "  input_list = list(mydict.values())\n",
        "  for i in range(0, len(encrypt) - 1, 2):\n",
        "    difference = lambda input_list : abs(input_list - counts_dec[encrypt[i: i+2]]) \n",
        "    res = min(input_list, key=difference)\n",
        "    letter = list(mydict.keys())[input_list.index(res)]\n",
        "    de_counts_dec.append(letter)\n",
        "  return ''.join(de_counts_dec)"
      ],
      "metadata": {
        "id": "R6EDZgt18Fif"
      },
      "execution_count": null,
      "outputs": []
    },
    {
      "cell_type": "code",
      "source": [
        "#encrypt_AK_bigrams\n",
        "decryption_AK_bigrams = decryption_frequency_method_bigrams(encrypt_AK_bigrams, frequency_bigrams_AK)\n",
        "decryption_AK_bigrams"
      ],
      "metadata": {
        "colab": {
          "base_uri": "https://localhost:8080/",
          "height": 87
        },
        "id": "i5Q9cOcs8FU9",
        "outputId": "98db7f37-97e0-44d9-f6fd-f403086dfca6"
      },
      "execution_count": null,
      "outputs": [
        {
          "output_type": "execute_result",
          "data": {
            "text/plain": [
              "'ияияияияияе ерго сергоя  ороиявсияя иявсия овся ияерроерервсияервсвс сер   оия оияияя всияияерияияиявсия  иявсиявсвсвсвсроияя всияияияиявсвсвсер свсвс сериявсервсвс свсер  всия  ервсвсвсро сервсияиявсговся ияроервсвсерияговсияер  ияиявс  рогороя всияроияерровсвсервсвс сияияиявсе е е е е иявсвсвс сияроервсвсроерияиявсроияе вс свсияиявсвсе иявсгоияговсерго сергоя  ое е иявсроияияияер  ияияя   е е ро овсияияия сер  ияияя роговсгоияроервсиявсер сияя всиявся   ервсияия о  всвсвс с  ияророер свсерро сияеря   ияроияервс  ияиявсвсияервсговсроереря ияервсвсияияиявсия срогоер  ияияия сияго  ер сияия'"
            ],
            "application/vnd.google.colaboratory.intrinsic+json": {
              "type": "string"
            }
          },
          "metadata": {},
          "execution_count": 68
        }
      ]
    },
    {
      "cell_type": "code",
      "source": [
        "#AnnaKarenina\n",
        "probability_AK_bigrams = probability_decryption(decryption_AK_bigrams, ' '.join(AnnaKarenina[:4]))\n",
        "probability_AK_bigrams"
      ],
      "metadata": {
        "colab": {
          "base_uri": "https://localhost:8080/"
        },
        "id": "MwAHguyD70F3",
        "outputId": "8b93927b-fd4e-4be5-e8e9-425a3b8404f1"
      },
      "execution_count": null,
      "outputs": [
        {
          "output_type": "execute_result",
          "data": {
            "text/plain": [
              "0.10217755443886097"
            ]
          },
          "metadata": {},
          "execution_count": 69
        }
      ]
    },
    {
      "cell_type": "code",
      "source": [
        "#encrypt_WAPE_bigrams\n",
        "decryption_WAPE_bigrams = decryption_frequency_method_bigrams(encrypt_WAPE_bigrams, frequency_bigrams_WAPE)\n",
        "decryption_WAPE_bigrams"
      ],
      "metadata": {
        "colab": {
          "base_uri": "https://localhost:8080/",
          "height": 140
        },
        "id": "kTNzvb3OF8wD",
        "outputId": "a6bbbf50-bede-422d-a4cc-e79597e414c4"
      },
      "execution_count": null,
      "outputs": [
        {
          "output_type": "execute_result",
          "data": {
            "text/plain": [
              "'ctooknbiysapkne ys tbiciw weknmictw  iciysknwectknctelknelctw ciniciw weysbituw tubimiysbifrknysw bixi tooctcictximiw  imicictbibimicictysmibiysg ximi txixitu ttumiapbi txictcibieloociw yscttuxiximi bapknci tctooe xiniknw tucixixiysbibicixibiysbicimi bxibicituknctw ciniciw wetuysxibiooctmibikne ys txibie w ciknmictw  iciyskne xicttuysbiw ysmiyse xifrnccttuniysximiw  iw cibi txixioocimiknctcictooxixictctxiysbixiciw webibie ysmibiknctknapct twectyskne ysctbiknysctbixie e mictapknw ciniknbiysapkne ys tbiciw weys tfrtuysxiooe frw ysbibixi cyskne  tw  icixit mit kn te e mictw  iciyskne frysbiw ysmiyselknels  t te biniwew we toocixie  t te  ts  t t t t bs  t t t t bt e  t te  tele  t te  tar t t t t cs  t t t t ct e  t te  to t e  t te  twee  t te  th  t t t t hs  t t t t ht e  t te  t it e  t te  t iar t t t t har t t t t ho e  t te  test e  t te  test s  t t t t hwee  t te  tite  t te  tits  t t t t h is  t t t t h it e  t te  titele  t te  titar t t t t hess  t t t t hest e  t te  tito t e gogow biwegoct t t t t be  t te  tt e  t te  tt s  t t t t bar t t t t ce  t te  to e  t te  to s  t t t t ct s  t t t t bh  t t t t he  t te  t ie  t te  t is  t t t t ht s  t t t t hele  t te  tese  t te  tess  t t t t ho s  t t t t ho t e  t te  t ih  t t t t hh  t t t t h ie gogow ysbiwegoct t t t t be  t te  tt e  t te  tt s  t t t t bar t t t t ce  t te  to e  t te  to s  t t t t ct s  t t t t bh  t t t t he  t te  t ie  t te  t is  t t t t ht s  t t t t hele  t te  tese  t te  tess  t t t t ho s  t t t t ho t e  t te  t ih wew wetubiwegobi t t t t be  t te  tt e  t te  tt s  t t t t bar t t t t ce  t te  to e  t te  to s  t t t t ct s  t t t t bh  t t t t he  t te  t ie  t te  t is  t t t t ht s  t t t t hele  t te  tese  t te  tess wew weystuwegobixibi t t t t be  t te  tt e  t te  tt s  t t t t bar t t t t ce  t te  to e  t te  to s  t t t t ct s  t t t t bh  t t t t he  t te  t ie  t te  t is  t t t t ht s  t t t t hele  t te  tese  t te  tess  t t t t ho s  t t t t ho t e  t te  t ih  t t t t hh  t t t t h ie  t te  titt e gogogowewegoxiwekn t t t t be  t te  tt e  t te  tt s  t t t t bar t t t t ce  t te  to e  t te  to s  t t t t ct s  t t t t bh  t t t t he  t te  t ie  t te  t is  t t t t ht s  t t t t hele  t te  tese  t te  tess  t t t t ho s  t t t t ho t e  t te  t ih  t t t t hh  t t t t h ie  t te  titt e  t te  titt s  t t t t h iar t t t t hese  t te  tito e gogogobiciwegoknwebi t t t t be  t te  tt e  t te  tt s  t t t t bar t t t t ce  t te  to e  t te  to s  t t t t ct s  t t t t bh  t t t t he  t te  t ie  t te  t is  t t t t ht s wew wexixiapciw e tue  t te  ts  t t t t bs  t t t t bt e  t te  tele  t te  tar t t t t cs  t t t t ct e  t te  to t e  t te  twee  t te  th  t t t t hs  t t t t ht e  t te  t it e  t te  t iar t t t t har t t t t ho e  t te  test e  t te  test s  t t t t hwee  t te  tite  t te  tits  t t t t h is wew wexiyswegogo t t t t be  t te  tt e  t te  tt s  t t t t bar t t t t ce  t te  to e  t te  to s  t t t t ct s  t t t t bh  t t t t he  t te  t ie  t te  t is  t t t t ht s  t t t t hele  t te  tese  t te  tess  t t t t ho s  t t t t ho t e  t te  t ih  t t t t hh  t t t t h ie  t te  titt e  t te  titt s wew wee kncitue  t te  ts  t t t t bs  t t t t bt e  t te  tele  t te  tar t t t t cs  t t t t ct e  t te  to t e  t te  twee  t te  th  t t t t hs  t t t t ht e  t te  t it e  t te  t iar t t t t har t t t t ho e  t te  test e  t te  test s  t t t t hwee  t te  tite  t te  tits  t t t t h is  t t t t h it e  t te  titele  t te  titar t t t t hess  t t t t hest e  t te  tito t e  t te  titwee  t te  tith  t t t t hits  t t t t hitt e  t te  tit it e  t te  tit iar t t t t hitar t t t t hito e  t te  titest e  t te  titest s  t t t t hitwee gogoyskntukncitue  t te  ts  t t t t bs  t t t t bt e  t te  tele  t te  tar t t t t cs  t t t t ct e  t te  to t e  t te  twee  t te  th  t t t t hs  t t t t ht e  t te  t it e  t te  t iar t t t t har t t t t ho e  t te  test e  t te  test s  t t t t hwee  t te  tite  t te  tits  t t t t h is  t t t t h it e  t te  titele  t te  titar t t t t hess  t t t t hest e  t te  tito t e  t te  titwee  t te  tith  t t t t hits  t t t t hitt e  t te  tit it e  t te  tit iarwew wexikntuwegogo t t t t be  t te  tt e  t te  tt s  t t t t bar t t t t ce  t te  to e  t te  to s  t t t t ct s  t t t t bh  t t t t he  t te  t ie  t te  t is  t t t t ht s  t t t t hele  t te  tese  t te  tess wew wectite ciwegogo t t t t be  t te  tt e  t te  tt s  t t t t bar t t t t ce  t te  to e  t te  to s  t t t t ct s  t t t t bh  t t t t he  t te  t ie  t te  t is  t t t t ht s  t t t t hele  t te  tese  t te  tess  t t t t ho s  t t t t ho t e  t te  t ih wew wetubie ciwegogo t t t t be  t te  tt e  t te  tt s  t t t t bar t t t t ce  t te  to e  t te  to s  t t t t ct s  t t t t bh  t t t t he  t te  t ie  t te  t is  t t t t ht s  t t t t hele  t te  tese  t te  tess  t t t t ho s  t t t t ho t e  t te  t ih wew weysxibikncitue kne  t te  ts  t t t t bs  t t t t bt e  t te  tele  t te  tar t t t t cs  t t t t ct e  t te  to t e  t te  twee  t te  th  t t t t hs  t t t t ht e  t te  t it e  t te  t iar t t t t har t t t t ho e  t te  test e  t te  test s  t t t t hwee  t te  tite ysciapbiknctbiwegoysyskn t t t t be  t te  tt e  t te  tt s  t t t t bar t t t t ce  t te  to e  t te  to s  t t t t ct s  t t t t bh  t t t t he  t te  t ie  t te  t is  t t t t ht s  t t t t hele  t te  tese  t te  tess goys ttubiknctbie  t te  ts  t t t t bs  t t t t bt e  t te  tele  t te  tar t t t t cs  t t t t ct e  t te  to t e  t te  twee  t te  th  t t t t hs  t t t t ht e gogoysyswegocte e  t te  ts miknbiknbikngoctknysbifrtubixibictooysysbimibibiknctbibie niknw tuwexixixibibiwebi bmictknknyskntumici tape ysapooctctw cinibifrniys tkntumigoknysw ciw ctcixi iw tu bbibiysnifrtunixituniysxixixie tufrw  tapfrkn tbimis ysbibiweknystuysooysw bibiysysknmiknbi ttucixicictaptuooelcictkncttumiw  itumiw yscictysct tapctxiys icictysct tapctxicixibigoystuw niknysbiystumiciknbixiapniysbitumici'"
            ],
            "application/vnd.google.colaboratory.intrinsic+json": {
              "type": "string"
            }
          },
          "metadata": {},
          "execution_count": 70
        }
      ]
    },
    {
      "cell_type": "code",
      "source": [
        "#decryption_WAPE_bigrams\n",
        "probability_WAPE_bigrams = probability_decryption(decryption_WAPE_bigrams, ' '.join(WarAndPeaceEng[:4]))\n",
        "probability_WAPE_bigrams"
      ],
      "metadata": {
        "colab": {
          "base_uri": "https://localhost:8080/"
        },
        "id": "OsGz6ejIGIam",
        "outputId": "80d520ce-dd81-41d4-83a6-0cb8cd637a24"
      },
      "execution_count": null,
      "outputs": [
        {
          "output_type": "execute_result",
          "data": {
            "text/plain": [
              "0.1646473029045643"
            ]
          },
          "metadata": {},
          "execution_count": 71
        }
      ]
    },
    {
      "cell_type": "code",
      "source": [
        "#encrypt_WAP_bigrams\n",
        "decryption_WAP_bigrams = decryption_frequency_method_bigrams(encrypt_WAP_bigrams, frequency_bigrams_WAP)\n",
        "decryption_WAP_bigrams"
      ],
      "metadata": {
        "colab": {
          "base_uri": "https://localhost:8080/",
          "height": 105
        },
        "id": "BKsYkOBFAT_A",
        "outputId": "bde54ec3-6e18-495f-de32-82bcd831bf82"
      },
      "execution_count": null,
      "outputs": [
        {
          "output_type": "execute_result",
          "data": {
            "text/plain": [
              "'мелслслсзао лсзаме о в злсерлсмеермемемемеза злс злс о змелс злс о вза в злсза з ззалслслс з  лсмемелсмелсзалс змеколс злсмемелслсмеме з з змемеме зко вмелслсмелслс олс з омезалсмелс илс зза з в з з вермеерлс илсерермеме зерермелс взалс з в вмеер вза злсер зермекомелс  залслс   в злс з  зазаме   в змелско зме верлсза змеер илслсерлсмеерзаерлслслслслс илс о злсме з имелсмемелсмелс злслсзалсмемелс в влско з иерлслсзалс в ззалс змеерзалсме змелслсзалслс з влслслслс зза зме з иермелс  лслслс злслскокомемелслслслс зерзамекомелс  о о о о о  з з з з змемеме вза влсзакозаколско ззаколслс зко ззаколсмекокоо о о о о о  з з з з змемеме вза вме илсмеер з зо  верлсо о лсерлслслслсо о о лсо мелслслслсзамелслсзалслс злсмелсме злсзамелсмелс змезаме змемелс з з зза змекокомемелслслслсзалсзамемелс'"
            ],
            "application/vnd.google.colaboratory.intrinsic+json": {
              "type": "string"
            }
          },
          "metadata": {},
          "execution_count": 72
        }
      ]
    },
    {
      "cell_type": "code",
      "source": [
        "#decryption_WAP_bigrams\n",
        "probability_WAP_bigrams = probability_decryption(decryption_WAP_bigrams, ' '.join(WarAndPeace[:4]))\n",
        "probability_WAP_bigrams"
      ],
      "metadata": {
        "colab": {
          "base_uri": "https://localhost:8080/"
        },
        "id": "-FvsgF7DAT57",
        "outputId": "8684b986-a473-41a6-8690-dc49d6e8cb7c"
      },
      "execution_count": null,
      "outputs": [
        {
          "output_type": "execute_result",
          "data": {
            "text/plain": [
              "0.08734177215189873"
            ]
          },
          "metadata": {},
          "execution_count": 73
        }
      ]
    },
    {
      "cell_type": "markdown",
      "source": [
        "### __Качество предсказания букв на частотном методе биграмм по Шерлоку Холмсу около 10 процентов__: AnnaKarenina - 0.10217755443886097; WarAndPeaceEng - 0.1646473029045643; WarAndPeace - 0.08734177215189873"
      ],
      "metadata": {
        "id": "hQGwrIpWOiHR"
      }
    },
    {
      "cell_type": "markdown",
      "source": [
        "#3. Но и это ещё не всё: биграммы скорее всего тоже далеко не всегда работают."
      ],
      "metadata": {
        "id": "CkFlYLYmNnc8"
      }
    },
    {
      "cell_type": "markdown",
      "source": [
        "###Основная часть задания — в том, как можно их улучшить:\n",
        "###○ предложите метод обучения перестановки символов в этом задании, основанный на MCMC-сэмплировании, но по-прежнему работающий на основе статистики биграмм;\n",
        "###○ реализуйте и протестируйте его, убедитесь, что результаты улучшились.\n"
      ],
      "metadata": {
        "id": "FMwOTFh6NtBp"
      }
    },
    {
      "cell_type": "code",
      "source": [
        "def read_file_leng(address, leng):\n",
        "  my_file = open(address, \"r\")\n",
        "\n",
        "  data = my_file.read()\n",
        "  data_into_list = data.replace('\\n', ' ')\n",
        "  data_into_list = re.split(\"! |\\. |\\? \", data_into_list)\n",
        "  \n",
        "  for i in range(len(data_into_list)):\n",
        "    data_into_list[i] = re.sub(leng,'',data_into_list[i]).lower()\n",
        "\n",
        "  my_file.close()\n",
        "  return data_into_list"
      ],
      "metadata": {
        "id": "fanmqPIxXeTe"
      },
      "execution_count": null,
      "outputs": []
    },
    {
      "cell_type": "code",
      "source": [
        "AnnaKarenina_rus = read_file_leng('gdrive/My Drive/Advanced_ML/AnnaKarenina.txt', r'[^а-яА-Я\\ ]*')\n",
        "AnnaKarenina_rus[:3]"
      ],
      "metadata": {
        "colab": {
          "base_uri": "https://localhost:8080/"
        },
        "id": "uzl6820jYhZM",
        "outputId": "134b41a3-0a19-4467-d9c2-e563a0f78b42"
      },
      "execution_count": null,
      "outputs": [
        {
          "output_type": "execute_result",
          "data": {
            "text/plain": [
              "['   анна каренина один из самых знаменитых романов льва толстого начинается ставшей афоризмом фразой все счастливые семьи похожи друг на друга каждая несчастливая семья несчастлива посвоему',\n",
              " 'это книга о вечных ценностях о любви о вере о семье о человеческом достоинстве',\n",
              " '           лев толстойроман широкого дыхания  часть первая   лев толстой  анна каренина     роман широкого дыхания     анна каренина поразила современников вседневностью содержания']"
            ]
          },
          "metadata": {},
          "execution_count": 10
        }
      ]
    },
    {
      "cell_type": "code",
      "source": [
        "WarAndPeaceEng_eng = read_file_leng('gdrive/My Drive/Advanced_ML/WarAndPeaceEng.txt', r'[^a-zA-Z\\ ]*')\n",
        "WarAndPeace_rus = read_file_leng('gdrive/My Drive/Advanced_ML/WarAndPeace.txt', r'[^а-яА-Я\\ ]*')"
      ],
      "metadata": {
        "id": "dZ4QuEfzTvEi"
      },
      "execution_count": null,
      "outputs": []
    },
    {
      "cell_type": "code",
      "source": [
        "frequency_bigrams_AK_rus = frequency_bigrams(' '.join(AnnaKarenina_rus))\n",
        "frequency_bigrams_WAP_rus = frequency_bigrams(' '.join(WarAndPeace_rus))\n",
        "frequency_bigrams_WAPE_eng = frequency_bigrams(' '.join(WarAndPeaceEng_eng))"
      ],
      "metadata": {
        "id": "UNC_xl4AyYyX"
      },
      "execution_count": null,
      "outputs": []
    },
    {
      "cell_type": "code",
      "source": [
        "counts_AK = Counter(' '.join(AnnaKarenina_rus))\n",
        "for letter in list(counts_AK):\n",
        "  counts_AK[letter] /= len(' '.join(AnnaKarenina_rus))\n",
        "\n",
        "counts_WAP = Counter(' '.join(WarAndPeace_rus))\n",
        "for letter in list(counts_WAP):\n",
        "  counts_WAP[letter] /= len(' '.join(WarAndPeace_rus))\n",
        "\n",
        "counts_WAPE = Counter(' '.join(WarAndPeaceEng_eng))\n",
        "for letter in list(counts_WAPE):\n",
        "  counts_WAPE[letter] /= len(' '.join(WarAndPeaceEng_eng))"
      ],
      "metadata": {
        "id": "LHTG3XojU23Q"
      },
      "execution_count": null,
      "outputs": []
    },
    {
      "cell_type": "code",
      "source": [
        "encrypt_AK_bigrams_rus = encrypt_frequency_method(counts_AK, ' '.join(AnnaKarenina_rus[:4]))\n",
        "\n",
        "encrypt_WAP_bigrams_rus = encrypt_frequency_method(counts_WAP, ' '.join(WarAndPeace_rus[:4]))\n",
        "\n",
        "encrypt_WAPE_bigrams_eng = encrypt_frequency_method(counts_WAPE, ' '.join(WarAndPeaceEng_eng[10:15]))\n",
        "\n",
        "encrypt_AK_bigrams_rus"
      ],
      "metadata": {
        "colab": {
          "base_uri": "https://localhost:8080/",
          "height": 87
        },
        "id": "5dbL6_mRzN7i",
        "outputId": "194f2aab-5550-4dc7-ad8c-50a175922038"
      },
      "execution_count": null,
      "outputs": [
        {
          "output_type": "execute_result",
          "data": {
            "text/plain": [
              "'фффсввсфжсрьвцвсфеуцвфцпфэсздщфпвсзьвцхдщфрезсве фмш сфхемэхеоефвснцвсьхэыфэхс йьбфсюерцпзезфюрспебф эьфэнсэхмц дьфэьзшцфкещетцфурлофвсфурлосфжстусыфвьэнсэхмц сыфэьзшыфвьэнсэхмц сфкеэ еьзлфъхефжвцосфеф ьнвдщфаьввеэхыщфефмич цфеф ьрьфефэьзшьфефньме ьньэжезфуеэхецвэх ьффффффффффффмь фхемэхебрезсвфйцрежеоефудщсвцыффнсэхшфкьр сыфффмь фхемэхебффсввсфжсрьвцвсфффффрезсвфйцрежеоефудщсвцыфффффсввсфжсрьвцвсфкерспцмсфэе рьзьввцже ф эьувь веэхшифэеуьртсвцыфвьечднсбвсыфэ ечеусфрсэже сввеэхшфке ьэх е свцыфлуц цхьмшвефэеньхсмцэшф фъхезфрезсвьфэфаьмшвеэхшифщлуетьэх ьввеоеф помыусфс херсфвсфтцпвш'"
            ],
            "application/vnd.google.colaboratory.intrinsic+json": {
              "type": "string"
            }
          },
          "metadata": {},
          "execution_count": 31
        }
      ]
    },
    {
      "cell_type": "code",
      "source": [
        "' '.join(WarAndPeaceEng_eng[10:15])"
      ],
      "metadata": {
        "colab": {
          "base_uri": "https://localhost:8080/",
          "height": 87
        },
        "id": "YVkTR_AwodB0",
        "outputId": "e9e8626b-865d-4ad9-8c1b-34bfc88dfa8a"
      },
      "execution_count": null,
      "outputs": [
        {
          "output_type": "execute_result",
          "data": {
            "text/plain": [
              "'what a virulent attack replied the prince not in the least disconcerted by this reception he had just entered wearing an embroidered court uniform knee breeches and shoes and had stars on his breast and a serene expression on his flat face he spoke in that refined french in which our grandfathers not only spoke but thought and with the gentle patronizing intonation natural to a man of importance who had grown old in society and at court he went up to anna pavlovna kissed her hand presenting to her his bald scented and shining head and complacently seated himself on the sofa  first of all dear friend tell me how you are'"
            ],
            "application/vnd.google.colaboratory.intrinsic+json": {
              "type": "string"
            }
          },
          "metadata": {},
          "execution_count": 16
        }
      ]
    },
    {
      "cell_type": "code",
      "source": [
        "def sum_prob(decryption, frequency_bigrams):\n",
        "  sum_dec = 0\n",
        "  for i in range(0, len(decryption) - 1, 2):\n",
        "    try:\n",
        "      sum_dec += frequency_bigrams[decryption[i: i+2]]\n",
        "    except:\n",
        "      sum_dec -= min(frequency_bigrams.values())\n",
        "  for i in range(1, len(decryption) - 2, 2):\n",
        "    try:\n",
        "      sum_dec += frequency_bigrams[decryption[i: i+2]]\n",
        "    except:\n",
        "      sum_dec -= min(frequency_bigrams.values())\n",
        "  return sum_dec"
      ],
      "metadata": {
        "id": "l3yoF2yXjYPk"
      },
      "execution_count": null,
      "outputs": []
    },
    {
      "cell_type": "code",
      "source": [
        "def decryption_mcmc_bigrams(encrypt, frequency_bigrams_ex, frequency_ex, count_iter):\n",
        "  counts_dec = Counter(encrypt)\n",
        "  list_a = [i[0] for i in counts_dec.most_common()]\n",
        "  list_b = [i[0] for i in frequency_ex.most_common(len(list_a))]\n",
        "  mapping_old = dict(zip(list_a, list_b))\n",
        "  decryption_old = ''\n",
        "  for i in encrypt:\n",
        "    decryption_old += mapping_old[i]\n",
        "\n",
        "  sum_old = sum_prob(decryption_old, frequency_bigrams_ex)\n",
        "  sum_best = sum_old\n",
        "  mapping_best = mapping_old.copy()\n",
        "  decryption_best = decryption_old\n",
        "  for _ in range(count_iter):\n",
        "    mapping_new = mapping_old.copy()\n",
        "    ran_1 = random.choice(list(mapping_new))\n",
        "    ran_2 = random.choice(list(mapping_new))\n",
        "    if ran_1 != ran_2:      \n",
        "      mapping_new[ran_1], mapping_new[ran_2] = mapping_new[ran_2], mapping_new[ran_1]\n",
        "      decryption_new = ''\n",
        "      for i in encrypt:\n",
        "        decryption_new += mapping_new[i]\n",
        "      sum_new = sum_prob(decryption_new, frequency_bigrams_ex)\n",
        "\n",
        "      if sum_new >= sum_old:\n",
        "        sum_old = sum_new\n",
        "        mapping_old = mapping_new.copy()\n",
        "        if sum_new >= sum_best: \n",
        "          sum_best = sum_new\n",
        "          mapping_best = mapping_new.copy()\n",
        "      else:\n",
        "        if sum_new - sum_old > random.random():\n",
        "          sum_old = sum_new          \n",
        "          mapping_old = mapping_new.copy()\n",
        "  decryption_best = ''\n",
        "  for i in encrypt:\n",
        "    decryption_best += mapping_best[i]    \n",
        "  return decryption_best"
      ],
      "metadata": {
        "id": "EBhtlEmq7Whh"
      },
      "execution_count": null,
      "outputs": []
    },
    {
      "cell_type": "code",
      "source": [
        "decryption_AK_bigrams_rus = decryption_mcmc_bigrams(encrypt_AK_bigrams_rus, frequency_bigrams_AK_rus, counts_AK, 1000)\n",
        "print(decryption_AK_bigrams_rus)\n",
        "print(probability_decryption(decryption_AK_bigrams_rus, ' '.join(AnnaKarenina_rus[:4])))"
      ],
      "metadata": {
        "colab": {
          "base_uri": "https://localhost:8080/"
        },
        "id": "NXy3wtOv0Isx",
        "outputId": "136578f0-1c8f-41c5-d03b-e8bfdef56272"
      },
      "execution_count": null,
      "outputs": [
        {
          "output_type": "stream",
          "name": "stdout",
          "text": [
            "   енне перинане одан аз селшя знелинатшя роленов кьве токстомо нечанеитсу стевхий ещоразлол щрезой вси счесткавши сильа гояожа дрцм не дрцме пеждеу нисчесткавеу сильу нисчесткаве госвоилц это пнаме о вичншя бинностуя о кыюва о вири о сильи о чиковичиспол достоанстви            кив токстойролен харопомо дшяенау  честь гирвеу   кив токстой  енне перинане     ролен харопомо дшяенау     енне перинане горезаке соврилиннапов всиднивностьы содирженау ниоюшчейнеу своюоде респовенность говиствовенау цдаватикьно сочитекась в этол ролени с бикьностьы яцдожиствинномо взмкуде евторе не жазнь\n",
            "0.6279863481228669\n"
          ]
        }
      ]
    },
    {
      "cell_type": "code",
      "source": [
        "#AnnaKarenina_rus\n",
        "decryption_AK_bigrams_rus = decryption_mcmc_bigrams(encrypt_AK_bigrams_rus, frequency_bigrams_AK_rus, counts_AK, 100000)\n",
        "print(decryption_AK_bigrams_rus)\n",
        "print(probability_decryption(decryption_AK_bigrams_rus, ' '.join(AnnaKarenina_rus[:4])))"
      ],
      "metadata": {
        "colab": {
          "base_uri": "https://localhost:8080/"
        },
        "id": "6kwrHKfOcpl7",
        "outputId": "97c80728-0a56-4a9b-b5e8-90ac0b62fae2"
      },
      "execution_count": null,
      "outputs": [
        {
          "output_type": "stream",
          "name": "stdout",
          "text": [
            "   анна каленина один их самбы хнаменитбы ломанов рьва торстого назинается ставшей ацолихмом цлахой все сзастривбе семьи поыожи длуг на длуга каждая несзастривая семья несзастрива посвоему это книга о везнбы ченностяы о рющви о веле о семье о зеровезеском достоинстве            рев торстойломан шилокого дбыания  засть пелвая   рев торстой  анна каленина     ломан шилокого дбыания     анна каленина полахира совлеменников вседневностью соделжания неощбзайная свощода ласкованность повествования удивитерьно созетарись в этом ломане с черьностью ыудожественного вхгряда автола на жихнь\n",
            "0.8720136518771331\n"
          ]
        }
      ]
    },
    {
      "cell_type": "code",
      "source": [
        "#WarAndPeace_rus\n",
        "decryption_WAP_bigrams_rus = decryption_mcmc_bigrams(encrypt_WAP_bigrams_rus, frequency_bigrams_WAP_rus, counts_WAP, 10000)\n",
        "print(decryption_WAP_bigrams_rus)\n",
        "print(probability_decryption(decryption_WAP_bigrams_rus, ' '.join(WarAndPeace_rus[:4])))"
      ],
      "metadata": {
        "colab": {
          "base_uri": "https://localhost:8080/"
        },
        "id": "w5SDM6u4dDdU",
        "outputId": "16929b10-95b4-4fcc-c9fe-50c3f4a31521"
      },
      "execution_count": null,
      "outputs": [
        {
          "output_type": "stream",
          "name": "stdout",
          "text": [
            "   нойла и вир  савый изнестлый ровал дьна ликодаенима тодстого как ликакое чругое произнечелие писатедя отражает гдубилу его вирооцуцелия и шидосошииэта клига из разряча немлых потову мто ола обо нсев  о жизли и сверти о дюбни и мести о вужестне и героизве о сдане и почниге о нойле и виреперный тов злаковит с нысщив обцестнов россии  нека показалы нзаивоотлощелия вежчу рочитедяви и четьви н севье ростоных снатонстно у бодколских илтриги у безухоных немера н садоле шрейдилы апщерер бады н воскне и петербурге            ден ликодаеним тодстоймасть перная  масть орая  масть третья              ден ликодаеним тодстой  нойла и вир  тов      масть перная          е              повестья    \n",
            "0.8170028818443804\n"
          ]
        }
      ]
    },
    {
      "cell_type": "code",
      "source": [
        "#WarAndPeaceEng_eng\n",
        "decryption_WAPE_bigrams_eng = decryption_mcmc_bigrams(encrypt_WAPE_bigrams_eng, frequency_bigrams_WAPE_eng, counts_WAPE, 10000)\n",
        "print(decryption_WAPE_bigrams_eng)\n",
        "print(probability_decryption(decryption_WAPE_bigrams_eng, ' '.join(WarAndPeaceEng_eng[10:15])))"
      ],
      "metadata": {
        "colab": {
          "base_uri": "https://localhost:8080/"
        },
        "id": "febX-1x_dXvz",
        "outputId": "80d1402b-5dbb-41dc-a1ea-848c0545a2e9"
      },
      "execution_count": null,
      "outputs": [
        {
          "output_type": "stream",
          "name": "stdout",
          "text": [
            "what a kirulent attacv replied the prince not in the least disconcerted by this reception he had just entered wearing an embroidered court uniform vnee breeches and shoes and had stars on his breast and a serene expression on his flat face he spove in that refined french in which our grandfathers not only spove but thought and with the gentle patronizing intonation natural to a man of importance who had grown old in society and at court he went up to anna paklokna vissed her hand presenting to her his bald scented and shining head and complacently seated himself on the sofa  first of all dear friend tell me how you are\n",
            "0.987220447284345\n"
          ]
        }
      ]
    },
    {
      "cell_type": "code",
      "source": [
        "# при использовании первых 4 предложений качество получается не очень, т.к. вначале идет оглавление chapter...\n",
        "' '.join(WarAndPeaceEng_eng[:4])"
      ],
      "metadata": {
        "colab": {
          "base_uri": "https://localhost:8080/",
          "height": 140
        },
        "id": "KSCVnQOkpBoC",
        "outputId": "9d665a09-d7fe-4026-fd8b-222ce70cac43"
      },
      "execution_count": null,
      "outputs": [
        {
          "output_type": "execute_result",
          "data": {
            "text/plain": [
              "'the project gutenberg ebook of war and peace by leo tolstoy  this ebook is for the use of anyone anywhere at no cost and with almost no restrictions whatsoever  you may copy it give it away or reuse it under the terms of the project gutenberg license included with this ebook or online at wwwgutenbergorg   title war and peace  author leo tolstoy  translators louise and aylmer maude  posting date january   ebook   last updated march    language english    start of this project gutenberg ebook war and peace   an anonymous volunteer and david widger      war and peace  by leo tolstoytolstoi  contents  book one   chapter i  chapter ii  chapter iii  chapter iv  chapter v  chapter vi  chapter vii  chapter viii  chapter ix  chapter x  chapter xi  chapter xii  chapter xiii  chapter xiv  chapter xv  chapter xvi  chapter xvii  chapter xviii  chapter xix  chapter xx  chapter xxi  chapter xxii  chapter xxiii  chapter xxiv  chapter xxv  chapter xxvi  chapter xxvii  chapter xxviii  book two   chapter i  chapter ii  chapter iii  chapter iv  chapter v  chapter vi  chapter vii  chapter viii  chapter ix  chapter x  chapter xi  chapter xii  chapter xiii  chapter xiv  chapter xv  chapter xvi  chapter xvii  chapter xviii  chapter xix  chapter xx  chapter xxi  book three   chapter i  chapter ii  chapter iii  chapter iv  chapter v  chapter vi  chapter vii  chapter viii  chapter ix  chapter x  chapter xi  chapter xii  chapter xiii  chapter xiv  chapter xv  chapter xvi  chapter xvii  chapter xviii  chapter xix  book four   chapter i  chapter ii  chapter iii  chapter iv  chapter v  chapter vi  chapter vii  chapter viii  chapter ix  chapter x  chapter xi  chapter xii  chapter xiii  chapter xiv  chapter xv  chapter xvi  book five     chapter i  chapter ii  chapter iii  chapter iv  chapter v  chapter vi  chapter vii  chapter viii  chapter ix  chapter x  chapter xi  chapter xii  chapter xiii  chapter xiv  chapter xv  chapter xvi  chapter xvii  chapter xviii  chapter xix  chapter xx  chapter xxi  chapter xxii  book six     chapter i  chapter ii  chapter iii  chapter iv  chapter v  chapter vi  chapter vii  chapter viii  chapter ix  chapter x  chapter xi  chapter xii  chapter xiii  chapter xiv  chapter xv  chapter xvi  chapter xvii  chapter xviii  chapter xix  chapter xx  chapter xxi  chapter xxii  chapter xxiii  chapter xxiv  chapter xxv  chapter xxvi  book seven     chapter i  chapter ii  chapter iii  chapter iv  chapter v  chapter vi  chapter vii  chapter viii  chapter ix  chapter x  chapter xi  chapter xii  chapter xiii  book eight     chapter i  chapter ii  chapter iii  chapter iv  chapter v  chapter vi  chapter vii  chapter viii  chapter ix  chapter x  chapter xi  chapter xii  chapter xiii  chapter xiv  chapter xv  chapter xvi  chapter xvii  chapter xviii  chapter xix  chapter xx  chapter xxi  chapter xxii  book nine   chapter i  chapter ii  chapter iii  chapter iv  chapter v  chapter vi  chapter vii  chapter viii  chapter ix  chapter x  chapter xi  chapter xii  chapter xiii  chapter xiv  chapter xv  chapter xvi  chapter xvii  chapter xviii  chapter xix  chapter xx  chapter xxi  chapter xxii  chapter xxiii  book ten   chapter i  chapter ii  chapter iii  chapter iv  chapter v  chapter vi  chapter vii  chapter viii  chapter ix  chapter x  chapter xi  chapter xii  chapter xiii  chapter xiv  chapter xv  chapter xvi  chapter xvii  chapter xviii  chapter xix  chapter xx  chapter xxi  chapter xxii  chapter xxiii  chapter xxiv  chapter xxv  chapter xxvi  chapter xxvii  chapter xxviii  chapter xxix  chapter xxx  chapter xxxi  chapter xxxii  chapter xxxiii  chapter xxxiv  chapter xxxv  chapter xxxvi  chapter xxxvii  chapter xxxviii  chapter xxxix  book eleven   chapter i  chapter ii  chapter iii  chapter iv  chapter v  chapter vi  chapter vii  chapter viii  chapter ix  chapter x  chapter xi  chapter xii  chapter xiii  chapter xiv  chapter xv  chapter xvi  chapter xvii  chapter xviii  chapter xix  chapter xx  chapter xxi  chapter xxii  chapter xxiii  chapter xxiv  chapter xxv  chapter xxvi  chapter xxvii  chapter xxviii  chapter xxix  chapter xxx  chapter xxxi  chapter xxxii  chapter xxxiii  chapter xxxiv  book twelve   chapter i  chapter ii  chapter iii  chapter iv  chapter v  chapter vi  chapter vii  chapter viii  chapter ix  chapter x  chapter xi  chapter xii  chapter xiii  chapter xiv  chapter xv  chapter xvi  book thirteen   chapter i  chapter ii  chapter iii  chapter iv  chapter v  chapter vi  chapter vii  chapter viii  chapter ix  chapter x  chapter xi  chapter xii  chapter xiii  chapter xiv  chapter xv  chapter xvi  chapter xvii  chapter xviii  chapter xix  book fourteen   chapter i  chapter ii  chapter iii  chapter iv  chapter v  chapter vi  chapter vii  chapter viii  chapter ix  chapter x  chapter xi  chapter xii  chapter xiii  chapter xiv  chapter xv  chapter xvi  chapter xvii  chapter xviii  chapter xix  book fifteen     chapter i  chapter ii  chapter iii  chapter iv  chapter v  chapter vi  chapter vii  chapter viii  chapter ix  chapter x  chapter xi  chapter xii  chapter xiii  chapter xiv  chapter xv  chapter xvi  chapter xvii  chapter xviii  chapter xix  chapter xx  first epilogue     chapter i  chapter ii  chapter iii  chapter iv  chapter v  chapter vi  chapter vii  chapter viii  chapter ix  chapter x  chapter xi  chapter xii  chapter xiii  chapter xiv  chapter xv  chapter xvi  second epilogue  chapter i  chapter ii  chapter iii  chapter iv  chapter v  chapter vi  chapter vii  chapter viii  chapter ix  chapter x  chapter xi  chapter xii  book one      chapter i  well prince so genoa and lucca are now just family estates of the buonapartes but i warn you if you dont tell me that this means war if you still try to defend the infamies and horrors perpetrated by that antichristi really believe he is antichristi will have nothing more to do with you and you are no longer my friend no longer my faithful slave as you call yourself but how do you do'"
            ],
            "application/vnd.google.colaboratory.intrinsic+json": {
              "type": "string"
            }
          },
          "metadata": {},
          "execution_count": 442
        }
      ]
    },
    {
      "cell_type": "code",
      "source": [
        "encrypt_WAPE_bigrams_eng_chapter = encrypt_frequency_method(counts_WAPE, ' '.join(WarAndPeaceEng_eng[:4]))"
      ],
      "metadata": {
        "id": "0Fma7zqWp4rX"
      },
      "execution_count": null,
      "outputs": []
    },
    {
      "cell_type": "code",
      "source": [
        "decryption_WAPE_bigrams_eng_chapter = decryption_mcmc_bigrams(encrypt_WAPE_bigrams_eng_chapter, frequency_bigrams_WAPE_eng, counts_WAPE, 10000)\n",
        "print(decryption_WAPE_bigrams_eng_chapter)\n",
        "print(probability_decryption(decryption_WAPE_bigrams_eng_chapter, ' '.join(WarAndPeaceEng_eng[:4])))"
      ],
      "metadata": {
        "colab": {
          "base_uri": "https://localhost:8080/"
        },
        "id": "pir_CrDSqCAH",
        "outputId": "ea6b4b21-4086-4311-e52c-3d46b6afe4d6"
      },
      "execution_count": null,
      "outputs": [
        {
          "output_type": "stream",
          "name": "stdout",
          "text": [
            "sri unlxias vksimwinv iwlly lp bon omg uioai wf cil slcdslf  sred iwlly ed pln sri kdi lp omflmi omfbrini os ml alds omg besr ocjlds ml nidsneaselmd brosdlihin  flk jof aluf es vehi es obof ln nikdi es kmgin sri sinjd lp sri unlxias vksimwinv ceaimdi emackgig besr sred iwlly ln lmcemi os bbbvksimwinvlnv   sesci bon omg uioai  oksrln cil slcdslf  snomdcoslnd clkedi omg ofcjin jokgi  uldsemv gosi xomkonf   iwlly   cods kugosig jonar    comvkovi imvcedr    dsons lp sred unlxias vksimwinv iwlly bon omg uioai   om omlmfjlkd hlckmsiin omg goheg begvin      bon omg uioai  wf cil slcdslfslcdsle  almsimsd  wlly lmi   arousin e  arousin ee  arousin eee  arousin eh  arousin h  arousin he  arousin hee  arousin heee  arousin et  arousin t  arousin te  arousin tee  arousin teee  arousin teh  arousin th  arousin the  arousin thee  arousin theee  arousin tet  arousin tt  arousin tte  arousin ttee  arousin tteee  arousin tteh  arousin tth  arousin tthe  arousin tthee  arousin ttheee  wlly sbl   arousin e  arousin ee  arousin eee  arousin eh  arousin h  arousin he  arousin hee  arousin heee  arousin et  arousin t  arousin te  arousin tee  arousin teee  arousin teh  arousin th  arousin the  arousin thee  arousin theee  arousin tet  arousin tt  arousin tte  wlly srnii   arousin e  arousin ee  arousin eee  arousin eh  arousin h  arousin he  arousin hee  arousin heee  arousin et  arousin t  arousin te  arousin tee  arousin teee  arousin teh  arousin th  arousin the  arousin thee  arousin theee  arousin tet  wlly plkn   arousin e  arousin ee  arousin eee  arousin eh  arousin h  arousin he  arousin hee  arousin heee  arousin et  arousin t  arousin te  arousin tee  arousin teee  arousin teh  arousin th  arousin the  wlly pehi     arousin e  arousin ee  arousin eee  arousin eh  arousin h  arousin he  arousin hee  arousin heee  arousin et  arousin t  arousin te  arousin tee  arousin teee  arousin teh  arousin th  arousin the  arousin thee  arousin theee  arousin tet  arousin tt  arousin tte  arousin ttee  wlly det     arousin e  arousin ee  arousin eee  arousin eh  arousin h  arousin he  arousin hee  arousin heee  arousin et  arousin t  arousin te  arousin tee  arousin teee  arousin teh  arousin th  arousin the  arousin thee  arousin theee  arousin tet  arousin tt  arousin tte  arousin ttee  arousin tteee  arousin tteh  arousin tth  arousin tthe  wlly dihim     arousin e  arousin ee  arousin eee  arousin eh  arousin h  arousin he  arousin hee  arousin heee  arousin et  arousin t  arousin te  arousin tee  arousin teee  wlly ievrs     arousin e  arousin ee  arousin eee  arousin eh  arousin h  arousin he  arousin hee  arousin heee  arousin et  arousin t  arousin te  arousin tee  arousin teee  arousin teh  arousin th  arousin the  arousin thee  arousin theee  arousin tet  arousin tt  arousin tte  arousin ttee  wlly memi   arousin e  arousin ee  arousin eee  arousin eh  arousin h  arousin he  arousin hee  arousin heee  arousin et  arousin t  arousin te  arousin tee  arousin teee  arousin teh  arousin th  arousin the  arousin thee  arousin theee  arousin tet  arousin tt  arousin tte  arousin ttee  arousin tteee  wlly sim   arousin e  arousin ee  arousin eee  arousin eh  arousin h  arousin he  arousin hee  arousin heee  arousin et  arousin t  arousin te  arousin tee  arousin teee  arousin teh  arousin th  arousin the  arousin thee  arousin theee  arousin tet  arousin tt  arousin tte  arousin ttee  arousin tteee  arousin tteh  arousin tth  arousin tthe  arousin tthee  arousin ttheee  arousin ttet  arousin ttt  arousin ttte  arousin tttee  arousin ttteee  arousin ttteh  arousin ttth  arousin ttthe  arousin ttthee  arousin tttheee  arousin tttet  wlly icihim   arousin e  arousin ee  arousin eee  arousin eh  arousin h  arousin he  arousin hee  arousin heee  arousin et  arousin t  arousin te  arousin tee  arousin teee  arousin teh  arousin th  arousin the  arousin thee  arousin theee  arousin tet  arousin tt  arousin tte  arousin ttee  arousin tteee  arousin tteh  arousin tth  arousin tthe  arousin tthee  arousin ttheee  arousin ttet  arousin ttt  arousin ttte  arousin tttee  arousin ttteee  arousin ttteh  wlly sbichi   arousin e  arousin ee  arousin eee  arousin eh  arousin h  arousin he  arousin hee  arousin heee  arousin et  arousin t  arousin te  arousin tee  arousin teee  arousin teh  arousin th  arousin the  wlly srensiim   arousin e  arousin ee  arousin eee  arousin eh  arousin h  arousin he  arousin hee  arousin heee  arousin et  arousin t  arousin te  arousin tee  arousin teee  arousin teh  arousin th  arousin the  arousin thee  arousin theee  arousin tet  wlly plknsiim   arousin e  arousin ee  arousin eee  arousin eh  arousin h  arousin he  arousin hee  arousin heee  arousin et  arousin t  arousin te  arousin tee  arousin teee  arousin teh  arousin th  arousin the  arousin thee  arousin theee  arousin tet  wlly pepsiim     arousin e  arousin ee  arousin eee  arousin eh  arousin h  arousin he  arousin hee  arousin heee  arousin et  arousin t  arousin te  arousin tee  arousin teee  arousin teh  arousin th  arousin the  arousin thee  arousin theee  arousin tet  arousin tt  pends iueclvki     arousin e  arousin ee  arousin eee  arousin eh  arousin h  arousin he  arousin hee  arousin heee  arousin et  arousin t  arousin te  arousin tee  arousin teee  arousin teh  arousin th  arousin the  dialmg iueclvki  arousin e  arousin ee  arousin eee  arousin eh  arousin h  arousin he  arousin hee  arousin heee  arousin et  arousin t  arousin te  arousin tee  wlly lmi      arousin e  bicc unemai dl vimlo omg ckaao oni mlb xkds pojecf idsosid lp sri wklmouonsid wks e bonm flk ep flk glms sicc ji sros sred jiomd bon ep flk dsecc snf sl gipimg sri empojeid omg rlnnlnd uinuisnosig wf sros omsearnedse nioccf wiceihi ri ed omsearnedse becc rohi mlsremv jlni sl gl besr flk omg flk oni ml clmvin jf pneimg ml clmvin jf poesrpkc dcohi od flk aocc flkndicp wks rlb gl flk gl\n",
            "0.23326024624725925\n"
          ]
        }
      ]
    },
    {
      "cell_type": "markdown",
      "source": [
        "### __Качество предсказания букв на методе основанном на MCMC-сэмплировании биграмм около 85 процентов__: AnnaKarenina - 0.8720136518771331; WarAndPeace - 0.8170028818443804; WarAndPeaceEng(c 10 по 14 предложение) - 0.987220447284345б WarAndPeaceEng(при использовании первых 4 предложений качество получается не очень, т.к. вначале идет оглавление chapter...) - 0.23326024624725925"
      ],
      "metadata": {
        "id": "SHr6u3CQPi6q"
      }
    },
    {
      "cell_type": "markdown",
      "source": [
        "#4. Расшифруйте сообщение:"
      ],
      "metadata": {
        "id": "9KuWr3NqlZiB"
      }
    },
    {
      "cell_type": "code",
      "source": [
        "text ='←⇠⇒↟↹↷⇊↹↷↟↤↟↨←↹↝⇛⇯↳⇴⇒⇈↝⇊↾↹↟⇒↟↹⇷⇛⇞↨↟↹↝⇛⇯↳⇴⇒⇈↝⇊↾↹↨←⇌⇠↨↹⇙↹⇸↨⇛↙⇛↹⇠⇛⇛↲⇆←↝↟↞↹⇌⇛↨⇛⇯⇊↾↹⇒←↙⇌⇛↹⇷⇯⇛⇞↟↨⇴↨⇈↹⇠⇌⇛⇯←←↹↷⇠←↙⇛↹↷⇊↹↷⇠←↹⇠↤←⇒⇴⇒↟↹⇷⇯⇴↷↟⇒⇈↝⇛↹↟↹⇷⇛⇒⇙⇞↟↨←↹↳⇴⇌⇠↟↳⇴⇒⇈↝⇊↾↹↲⇴⇒⇒↹⇰⇴↹⇷⇛⇠⇒←↤↝←←↹⇞←↨↷←⇯↨⇛←↹⇰⇴↤⇴↝↟←↹⇌⇙⇯⇠⇴↹↘⇛↨↞↹⇌⇛↝←⇞↝⇛↹↞↹↝↟⇞←↙⇛↹↝←↹⇛↲←⇆⇴⇏'"
      ],
      "metadata": {
        "id": "1TbMgxKjl2I7"
      },
      "execution_count": null,
      "outputs": []
    },
    {
      "cell_type": "code",
      "source": [
        "counts_text = Counter(text)\n",
        "print(len(counts_text))"
      ],
      "metadata": {
        "colab": {
          "base_uri": "https://localhost:8080/"
        },
        "id": "VGb9YkDKlegJ",
        "outputId": "d9278150-de88-4ba9-b937-15efaa267bd6"
      },
      "execution_count": null,
      "outputs": [
        {
          "output_type": "stream",
          "name": "stdout",
          "text": [
            "28\n"
          ]
        }
      ]
    },
    {
      "cell_type": "code",
      "source": [
        "# предположение, что текст на русском т.к. в английском 26 букв\n",
        "decryption_bigrams = decryption_mcmc_bigrams(text, frequency_bigrams_WAP_rus, counts_WAP, 10000)\n",
        "decryption_bigrams"
      ],
      "metadata": {
        "colab": {
          "base_uri": "https://localhost:8080/",
          "height": 53
        },
        "id": "DThCWLMymDWp",
        "outputId": "a6230a05-eec2-4102-94bc-eb042719a32c"
      },
      "execution_count": null,
      "outputs": [
        {
          "output_type": "execute_result",
          "data": {
            "text/plain": [
              "'если вы вижите норзальный или помти норзальный текст у чтого соодшения который легко промитать скорее всего вы все сжелали правильно и полумите заксизальный далл ба послежнее метвертое бажание курса хотя конемно я нимего не одешаю'"
            ],
            "application/vnd.google.colaboratory.intrinsic+json": {
              "type": "string"
            }
          },
          "metadata": {},
          "execution_count": 426
        }
      ]
    },
    {
      "cell_type": "code",
      "source": [
        "text ='←⇠⇒↟↹↷⇊↹↷↟↤↟↨←↹↝⇛⇯↳⇴⇒⇈↝⇊↾↹↟⇒↟↹⇷⇛⇞↨↟↹↝⇛⇯↳⇴⇒⇈↝⇊↾↹↨←⇌⇠↨↹⇙↹⇸↨⇛↙⇛↹⇠⇛⇛↲⇆←↝↟↞↹⇌⇛↨⇛⇯⇊↾↹⇒←↙⇌⇛↹⇷⇯⇛⇞↟↨⇴↨⇈↹⇠⇌⇛⇯←←↹↷⇠←↙⇛↹↷⇊↹↷⇠←↹⇠↤←⇒⇴⇒↟↹⇷⇯⇴↷↟⇒⇈↝⇛↹↟↹⇷⇛⇒⇙⇞↟↨←↹↳⇴⇌⇠↟↳⇴⇒⇈↝⇊↾↹↲⇴⇒⇒↹⇰⇴↹⇷⇛⇠⇒←↤↝←←↹⇞←↨↷←⇯↨⇛←↹⇰⇴↤⇴↝↟←↹⇌⇙⇯⇠⇴↹↘⇛↨↞↹⇌⇛↝←⇞↝⇛↹↞↹↝↟⇞←↙⇛↹↝←↹⇛↲←⇆⇴⇏'\n",
        "decryption_bigrams = decryption_mcmc_bigrams(text, frequency_bigrams_WAP_rus, counts_WAP, 10000)\n",
        "decryption_bigrams"
      ],
      "metadata": {
        "colab": {
          "base_uri": "https://localhost:8080/",
          "height": 53
        },
        "id": "5hDAi7Abq7Lw",
        "outputId": "388d457b-0be2-4228-f373-1d0157e6a708"
      },
      "execution_count": null,
      "outputs": [
        {
          "output_type": "execute_result",
          "data": {
            "text/plain": [
              "'если вы вижите норзальный или помти норзальный текст у чтого соодшения который легко промитать скорее всего вы все сжелали правильно и полумите заксизальный далл ба послежнее метвертое бажание курса хотя конемно я нимего не одешаю'"
            ],
            "application/vnd.google.colaboratory.intrinsic+json": {
              "type": "string"
            }
          },
          "metadata": {},
          "execution_count": 402
        }
      ]
    },
    {
      "cell_type": "markdown",
      "source": [
        "#5. Бонус: а что если от биграмм перейти к триграммам (тройкам букв) или даже больше?"
      ],
      "metadata": {
        "id": "dQ3HdaPaqmKP"
      }
    },
    {
      "cell_type": "code",
      "source": [
        "def frequency_threegram(text):\n",
        "  list_a = []\n",
        "  list_b = []\n",
        "  for i in range(len(text) - 2):\n",
        "    if text[i: i+3] not in list_a:\n",
        "      list_a.append(text[i: i+3])\n",
        "      list_b.append(text.count(text[i: i+3]) / (len(text) / 3))\n",
        "  return dict(zip(list_a, list_b))"
      ],
      "metadata": {
        "id": "jYCmjFbBql8O"
      },
      "execution_count": null,
      "outputs": []
    },
    {
      "cell_type": "code",
      "source": [
        "frequency_threegram_WAPE_eng = frequency_threegram(' '.join(WarAndPeaceEng_eng))"
      ],
      "metadata": {
        "id": "l_NNGT7i_H9N"
      },
      "execution_count": null,
      "outputs": []
    },
    {
      "cell_type": "code",
      "source": [
        "len(frequency_threegram_WAPE_eng)"
      ],
      "metadata": {
        "colab": {
          "base_uri": "https://localhost:8080/"
        },
        "id": "ryQC9JDL1mZ9",
        "outputId": "6615e5d2-67a7-4b22-92e6-aade06099466"
      },
      "execution_count": null,
      "outputs": [
        {
          "output_type": "execute_result",
          "data": {
            "text/plain": [
              "6531"
            ]
          },
          "metadata": {},
          "execution_count": 27
        }
      ]
    },
    {
      "cell_type": "code",
      "source": [
        "frequency_threegram_AK_rus = frequency_threegram(' '.join(AnnaKarenina_rus))"
      ],
      "metadata": {
        "id": "2QeWXtK45gOX"
      },
      "execution_count": null,
      "outputs": []
    },
    {
      "cell_type": "code",
      "source": [
        "frequency_threegram_WAP_rus = frequency_threegram(' '.join(WarAndPeace_rus))"
      ],
      "metadata": {
        "id": "jho1tzQd5uVx"
      },
      "execution_count": null,
      "outputs": []
    },
    {
      "cell_type": "code",
      "source": [
        "def sum_prob(decryption, frequency_bigrams, frequency_threegram):\n",
        "  sum_dec = 0\n",
        "  for i in range(0, len(decryption) - 1, 2):\n",
        "    try:\n",
        "      sum_dec += frequency_bigrams[decryption[i: i+2]]\n",
        "    except:\n",
        "      sum_dec -= min(frequency_bigrams.values())\n",
        "  \n",
        "  for i in range(0, len(decryption) - 2, 3):\n",
        "    try:\n",
        "      sum_dec += frequency_threegram[decryption[i: i+3]]\n",
        "    except:\n",
        "      sum_dec -= min(frequency_threegram.values())\n",
        "  \n",
        "  return sum_dec"
      ],
      "metadata": {
        "id": "T6XaaW_3rew5"
      },
      "execution_count": null,
      "outputs": []
    },
    {
      "cell_type": "code",
      "source": [
        "def decryption_mcmc_threegram(encrypt, frequency_threegram, frequency_bigrams_ex, frequency_ex, count_iter):\n",
        "  counts_dec = Counter(encrypt)\n",
        "  list_a = [i[0] for i in counts_dec.most_common()]\n",
        "  list_b = [i[0] for i in frequency_ex.most_common(len(list_a))]\n",
        "  mapping_old = dict(zip(list_a, list_b))\n",
        "  decryption_old = ''\n",
        "  for i in encrypt:\n",
        "    decryption_old += mapping_old[i]\n",
        "\n",
        "  sum_old = sum_prob(decryption_old, frequency_bigrams_ex, frequency_threegram)\n",
        "  sum_best = sum_old\n",
        "  mapping_best = mapping_old.copy()\n",
        "  decryption_best = decryption_old\n",
        "  for _ in range(count_iter):\n",
        "    mapping_new = mapping_old.copy()\n",
        "    ran_1 = random.choice(list(mapping_new))\n",
        "    ran_2 = random.choice(list(mapping_new))\n",
        "    if ran_1 != ran_2:      \n",
        "      mapping_new[ran_1], mapping_new[ran_2] = mapping_new[ran_2], mapping_new[ran_1]\n",
        "      decryption_new = ''\n",
        "      for i in encrypt:\n",
        "        decryption_new += mapping_new[i]\n",
        "      sum_new = sum_prob(decryption_new, frequency_bigrams_ex, frequency_threegram)\n",
        "\n",
        "      if sum_new >= sum_old:\n",
        "        sum_old = sum_new\n",
        "        mapping_old = mapping_new.copy()\n",
        "        if sum_new >= sum_best: \n",
        "          sum_best = sum_new\n",
        "          mapping_best = mapping_new.copy()\n",
        "      else:\n",
        "        if sum_new - sum_old > random.random():\n",
        "          sum_old = sum_new          \n",
        "          mapping_old = mapping_new.copy()\n",
        "  decryption_best = ''\n",
        "  for i in encrypt:\n",
        "    decryption_best += mapping_best[i]    \n",
        "  return decryption_best"
      ],
      "metadata": {
        "id": "oCQxPiTpthxk"
      },
      "execution_count": null,
      "outputs": []
    },
    {
      "cell_type": "code",
      "source": [
        "# 0.8720136518771331 - качество при биграммах, при добавлении триграмм качество улучшилось \n",
        "decryption_AK_threegram_rus = decryption_mcmc_threegram(encrypt_AK_bigrams_rus, frequency_threegram_AK_rus, frequency_bigrams_AK_rus, counts_AK, 100000)\n",
        "print(decryption_AK_threegram_rus)\n",
        "print(probability_decryption(decryption_AK_threegram_rus, ' '.join(AnnaKarenina_rus[:4])))"
      ],
      "metadata": {
        "colab": {
          "base_uri": "https://localhost:8080/"
        },
        "id": "8naWHjcA6TRT",
        "outputId": "a1846a57-6af4-4997-9864-96f47565a004"
      },
      "execution_count": null,
      "outputs": [
        {
          "output_type": "stream",
          "name": "stdout",
          "text": [
            "   анна каренина опин из самыу знаменитыу романов льва толстого надинается ставшей ахоризмом хразой все сдастливые семьи чоуоби прщг на прщга кабпая несдастливая семья несдастлива чосвоемщ это книга о ведныу женностяу о люцви о вере о семье о деловедеском постоинстве            лев толстойроман широкого пыуания  дасть червая   лев толстой  анна каренина     роман широкого пыуания     анна каренина чоразила современников всепневностью сопербания неоцыдайная своцопа раскованность човествования щпивительно содетались в этом романе с жельностью ущпобественного взгляпа автора на бизнь\n",
            "0.909556313993174\n"
          ]
        }
      ]
    },
    {
      "cell_type": "code",
      "source": [
        "# 0.8720136518771331 - качество при биграммах, при добавлении триграмм качество улучшилось \n",
        "decryption_AK_threegram_rus = decryption_mcmc_threegram(encrypt_AK_bigrams_rus, frequency_threegram_AK_rus, {' ': 0}, counts_AK, 100000)\n",
        "print(decryption_AK_threegram_rus)\n",
        "print(probability_decryption(decryption_AK_threegram_rus, ' '.join(AnnaKarenina_rus[:4])))"
      ],
      "metadata": {
        "colab": {
          "base_uri": "https://localhost:8080/"
        },
        "id": "Owq1Eke5JGGL",
        "outputId": "ed2be82c-6adb-4888-b1ed-b1d901075f15"
      },
      "execution_count": null,
      "outputs": [
        {
          "output_type": "stream",
          "name": "stdout",
          "text": [
            "   енне седаныне ичын ыэ оетцх энетанывцх дитенип рупе вировили некынеавой овепгая ежидыэтит ждеэия поа океоврыпца оатуы михибы чдьл не чдьле себчей наокеоврыпей оатуй наокеоврыпе миопиать шви сныле и пакнцх занниовйх и рющпы и пада и оатуа и карипакаосит чиовиыновпа            рап вировиядитен гыдисили чцхеный  кеову мадпей   рап вировия  енне седаныне     дитен гыдисили чцхеный     енне седаныне мидеэыре оипдатаннысип поачнапниовую оичадбеный наищцкеяней опищиче деосипенниову мипаовпипеный ьчыпываруни оикаверыоу п швит дитена о заруниовую хьчибаовпаннили пэлрйче епвиде не быэну\n",
            "0.26791808873720135\n"
          ]
        }
      ]
    },
    {
      "cell_type": "code",
      "source": [
        "# 0.8170028818443804 - качество при биграммах, при добавлении триграмм качество улучшилось\n",
        "decryption_WAP_threegram_rus = decryption_mcmc_threegram(encrypt_WAP_bigrams_rus, frequency_threegram_WAP_rus, frequency_bigrams_WAP_rus, counts_WAP, 10000)\n",
        "print(decryption_WAP_threegram_rus)\n",
        "print(probability_decryption(decryption_WAP_threegram_rus, ' '.join(WarAndPeace_rus[:4])))"
      ],
      "metadata": {
        "colab": {
          "base_uri": "https://localhost:8080/"
        },
        "id": "dqQdrzdU3LRn",
        "outputId": "283f52db-7c65-4d6b-c90d-6d784a54235c"
      },
      "execution_count": null,
      "outputs": [
        {
          "output_type": "stream",
          "name": "stdout",
          "text": [
            "   нойва и мир  самый изнествый ромав льна виколаенида толстого как викакое жругое произнежевие писателя отрачает глубиву его мироощущевия и эилосоэиицта квига из разряжа недвых потому дто ова обо нсем  о чизви и смерти о любни и дести о мучестне и героизме о слане и пожниге о нойве и миреперный том звакомит с нысшим общестном россии  нека показавы нзаимоотвошевия мечжу рожителями и жетьми н семье ростоных снатонстно у болковских ивтриги у безухоных недера н салове эрейливы апшерер балы н москне и петербурге            лен виколаенид толстойдасть перная  дасть орая  дасть третья              лен виколаенид толстой  нойва и мир  том      дасть перная          е              поместья    \n",
            "0.8789625360230547\n"
          ]
        }
      ]
    },
    {
      "cell_type": "code",
      "source": [
        "# 0.8170028818443804 - качество при биграммах, при использовании только триграмм качество улучшилось\n",
        "decryption_WAP_threegram_rus = decryption_mcmc_threegram(encrypt_WAP_bigrams_rus, frequency_threegram_WAP_rus, {' ': 0}, counts_WAP, 10000)\n",
        "print(decryption_WAP_threegram_rus)\n",
        "print(probability_decryption(decryption_WAP_threegram_rus, ' '.join(WarAndPeace_rus[:4])))"
      ],
      "metadata": {
        "colab": {
          "base_uri": "https://localhost:8080/"
        },
        "id": "5gAe13G3IBTg",
        "outputId": "9337b392-f6c0-4ec6-b238-26588a107f1a"
      },
      "execution_count": null,
      "outputs": [
        {
          "output_type": "stream",
          "name": "stdout",
          "text": [
            "   нойла и мир  самый изнестлый ромал вьна ликоваенича товстого как ликакое дрягое произнеделие писатеву отражает гвябиля его мироощящелиу и эивосоэииюта клига из разруда нечлых потомя что ола обо нсем  о жизли и смерти о вцбни и чести о мяжестне и героизме о сване и подниге о нойле и миреперный том злакомит с нысшим общестном россии  нека показалы нзаимоотлошелиу междя родитевуми и детьми н семье ростоных снатонстно я бовколских илтриги я безяхоных нечера н саволе эрейвилы апшерер бавы н москне и петербярге            вен ликоваенич товстойчасть пернау  часть орау  часть третьу              вен ликоваенич товстой  нойла и мир  том      часть пернау          е              поместьу    \n",
            "0.8515850144092219\n"
          ]
        }
      ]
    },
    {
      "cell_type": "code",
      "source": [
        "#0.987220447284345 - качество при биграммах, при добавлении триграмм качество ухудшилось\n",
        "decryption_WAPE_threegram_eng = decryption_mcmc_threegram(encrypt_WAPE_bigrams_eng, frequency_threegram_WAPE_eng, frequency_bigrams_WAPE_eng, counts_WAPE, 10000)\n",
        "print(decryption_WAPE_threegram_eng)\n",
        "print(probability_decryption(decryption_WAPE_threegram_eng, ' '.join(WarAndPeaceEng_eng[10:15])))"
      ],
      "metadata": {
        "colab": {
          "base_uri": "https://localhost:8080/"
        },
        "id": "bVyK05xb32Nr",
        "outputId": "300bfcbb-9426-4d65-bc9b-130845f5ac65"
      },
      "execution_count": null,
      "outputs": [
        {
          "output_type": "stream",
          "name": "stdout",
          "text": [
            "bhat a kirulent attacv rewlied the wrince not in the least disconcerted py this recewtion he had just entered bearing an emproidered court uniform vnee preeches and shoes and had stars on his preast and a serene exwression on his flat face he swove in that refined french in bhich our grandfathers not only swove put thought and bith the gentle watronizing intonation natural to a man of imwortance bho had grobn old in society and at court he bent uw to anna waklokna vissed her hand wresenting to her his pald scented and shining head and comwlacently seated himself on the sofa  first of all dear friend tell me hob you are\n",
            "0.9456869009584664\n"
          ]
        }
      ]
    },
    {
      "cell_type": "code",
      "source": [
        "#0.987220447284345 - качество при биграммах, при использовании только триграмм качество не изменилось\n",
        "decryption_WAPE_threegram_eng = decryption_mcmc_threegram(encrypt_WAPE_bigrams_eng, frequency_threegram_WAPE_eng, {' ': 0}, counts_WAPE, 10000)\n",
        "print(decryption_WAPE_threegram_eng)\n",
        "print(probability_decryption(decryption_WAPE_threegram_eng, ' '.join(WarAndPeaceEng_eng[10:15])))"
      ],
      "metadata": {
        "colab": {
          "base_uri": "https://localhost:8080/"
        },
        "id": "7-ypB_3X6slg",
        "outputId": "506ee114-3f42-42ad-f029-fb3480183526"
      },
      "execution_count": null,
      "outputs": [
        {
          "output_type": "stream",
          "name": "stdout",
          "text": [
            "what a kirulent attacv replied the prince not in the least disconcerted by this reception he had just entered wearing an embroidered court uniform vnee breeches and shoes and had stars on his breast and a serene expression on his flat face he spove in that refined french in which our grandfathers not only spove but thought and with the gentle patronizing intonation natural to a man of importance who had grown old in society and at court he went up to anna paklokna vissed her hand presenting to her his bald scented and shining head and complacently seated himself on the sofa  first of all dear friend tell me how you are\n",
            "0.987220447284345\n"
          ]
        }
      ]
    },
    {
      "cell_type": "markdown",
      "source": [
        "### __Качество предсказания букв на методе основанном на MCMC-сэмплировании биграмм и триграмм около 90 процентов__: AnnaKarenina - 0.909556313993174; WarAndPeaceEng(c 10 по 14 предложение) - 0.9456869009584664; WarAndPeace - 0.8789625360230547\n",
        "\n",
        "\n",
        "### __Качество предсказания букв на методе основанном на MCMC-сэмплировании только триграмм около 80 процентов__: AnnaKarenina - 0.26791808873720135; WarAndPeaceEng(c 10 по 14 предложение) - 0.987220447284345; WarAndPeace - 0.8515850144092219\n",
        "\n",
        "### __Использование и биграмм и триграмм в MCMC-сэмплировании дает результаты лучше__"
      ],
      "metadata": {
        "id": "f-mNtqB_Sqol"
      }
    }
  ]
}